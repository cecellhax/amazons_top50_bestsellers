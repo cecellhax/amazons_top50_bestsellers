{
  "nbformat": 4,
  "nbformat_minor": 0,
  "metadata": {
    "colab": {
      "provenance": [],
      "mount_file_id": "123z8uMGPQ3gkbHuRF8ZiPWN_cdQOOc-J",
      "authorship_tag": "ABX9TyMsQh20hRG5UPjldhiZdlii"
    },
    "kernelspec": {
      "name": "python3",
      "display_name": "Python 3"
    },
    "language_info": {
      "name": "python"
    }
  },
  "cells": [
    {
      "cell_type": "markdown",
      "source": [
        "<img src=\"https://upload.wikimedia.org/wikipedia/commons/a/a5/Logo_hotmart.png\" alt=\"logo\" width=\"200\" height=\"70\">\n",
        "\n",
        "Cecília Souza - Data Analyst - February 2024\n",
        "\n",
        "# **Business Case Hotmart**\n",
        "\n",
        "## **Business context and problem definition**\n",
        "\n",
        "Hotmart is a global company that has conquered a wide market of info products, registering significant growth in its business and in the economy. The platform has established an extensive network of content producers who trust it to intermediate the sales of their products, providing customers with the best possible experience.\n",
        "\n",
        "Info products are highly scalable and accessible items, easily accessible on various devices, anytime and anywhere. With these characteristics, info products have become a crucial source of income for many content producers. The success of these products has encouraged producers to expand their creations, aiming to build successful digital businesses.\n",
        "\n",
        "Many producers choose to involve co-producers to enhance the development of their products, resulting in mutual benefits from sales. Additionally, there are affiliates who promote producers' products in exchange for a commission on sales.\n",
        "\n",
        "However, managing these products can be a challenge for content producers due to the large number of sales, products, and affiliates, making it difficult to analyze them individually. In this scenario, it is crucial to conduct an analysis of the portfolios of products from content producers and consider the possibility of creating a sales and billing management tool. This tool would allow producers to view a summary of their performance and better manage their portfolios of products and partners.\n",
        "\n",
        "**Objective:**\n",
        "\n",
        "- To understand the portfolio of producers and the diversity of products, niches, and dynamics of affiliates.\n",
        "\n",
        "\n",
        "**Questions to investigate**\n",
        "1. How many sales were made over the months?\n",
        "2. How many creators sell at Hotmart monthly?\n",
        "3. How are sales distributed between different market niches?\n",
        "4. How are sales by product format?\n",
        "5. How is the revenue generated on the platform?\n",
        "6. What is the creators’ revenue?\n",
        "7. What is the distribution of sales by creators?\n",
        "\n",
        "**Success Criteria:**\n",
        "\n",
        "- Identification of opportunities to improve user experience and increase sales.\n"
      ],
      "metadata": {
        "id": "onD6iMmy3-_E"
      }
    },
    {
      "cell_type": "markdown",
      "source": [
        "## Environment preparation"
      ],
      "metadata": {
        "id": "FSBDxfRAPbnS"
      }
    },
    {
      "cell_type": "code",
      "execution_count": null,
      "metadata": {
        "id": "exR4L1sOXg_w"
      },
      "outputs": [],
      "source": [
        "# Imports\n",
        "import pandas as pd\n",
        "import seaborn as sns\n",
        "import matplotlib.pyplot as plt\n",
        "from scipy.stats import skew"
      ]
    },
    {
      "cell_type": "code",
      "source": [
        "# Environment Setting\n",
        "df = pd.read_csv('/content/drive/MyDrive/Data/Purchases.csv')\n",
        "df.head(3)"
      ],
      "metadata": {
        "colab": {
          "base_uri": "https://localhost:8080/",
          "height": 319
        },
        "id": "89Bc1XfXYLXe",
        "outputId": "c3514fa2-8e32-486f-8f5c-39a0fb50239f"
      },
      "execution_count": null,
      "outputs": [
        {
          "output_type": "execute_result",
          "data": {
            "text/plain": [
              "  product_format  purchase_commission_affiliate  \\\n",
              "0        Podcast                            NaN   \n",
              "1        Podcast                            NaN   \n",
              "2        Podcast                            NaN   \n",
              "\n",
              "   purchase_commission_cocreator  purchase_has_coupon  purchase_gmv  \\\n",
              "0                            NaN                False     -0.160070   \n",
              "1                            NaN                False      1.062798   \n",
              "2                            NaN                False      2.476160   \n",
              "\n",
              "                  product_id product_niche                       purchase_id  \\\n",
              "0  98-121-24-126-123-123-118         Music  97-125-24-117-120-124-115-21-115   \n",
              "1  97-125-21-123-127-118-127       History  98-118-29-120-127-122-126-24-117   \n",
              "2  98-118-31-120-127-127-115    Technology  98-118-30-126-118-119-116-20-121   \n",
              "\n",
              "   purchase_installment_number purchase_parent_id purchase_payment_method  \\\n",
              "0                            1                NaN             QuickSettle   \n",
              "1                            1                NaN               EcoWallet   \n",
              "2                            1                NaN             QuickSettle   \n",
              "\n",
              "  purchase_release_datetime  purchase_recurrency_number  \\\n",
              "0   2023-07-15 04:38:38.000                         2.0   \n",
              "1   2023-01-19 08:04:01.000                         2.0   \n",
              "2   2023-02-01 08:24:28.000                         1.0   \n",
              "\n",
              "  purchase_recurrency_type user_buyer_country                       buyer_id  \\\n",
              "0                Recurring            Solaris  101-118-29-126-120-124-116-21   \n",
              "1                Recurring            Solaris  101-126-29-117-126-121-117-21   \n",
              "2                      NaN           Neptunia  101-124-28-116-120-122-113-27   \n",
              "\n",
              "  user_creator_country                     creator_id  \n",
              "0              Lunaria  103-124-25-125-119-126-118-24  \n",
              "1              Lunaria  102-121-25-127-119-119-114-21  \n",
              "2              Auroria  103-118-30-122-126-121-113-31  "
            ],
            "text/html": [
              "\n",
              "  <div id=\"df-112e52ef-db6d-4042-9ed3-d1faf9991515\" class=\"colab-df-container\">\n",
              "    <div>\n",
              "<style scoped>\n",
              "    .dataframe tbody tr th:only-of-type {\n",
              "        vertical-align: middle;\n",
              "    }\n",
              "\n",
              "    .dataframe tbody tr th {\n",
              "        vertical-align: top;\n",
              "    }\n",
              "\n",
              "    .dataframe thead th {\n",
              "        text-align: right;\n",
              "    }\n",
              "</style>\n",
              "<table border=\"1\" class=\"dataframe\">\n",
              "  <thead>\n",
              "    <tr style=\"text-align: right;\">\n",
              "      <th></th>\n",
              "      <th>product_format</th>\n",
              "      <th>purchase_commission_affiliate</th>\n",
              "      <th>purchase_commission_cocreator</th>\n",
              "      <th>purchase_has_coupon</th>\n",
              "      <th>purchase_gmv</th>\n",
              "      <th>product_id</th>\n",
              "      <th>product_niche</th>\n",
              "      <th>purchase_id</th>\n",
              "      <th>purchase_installment_number</th>\n",
              "      <th>purchase_parent_id</th>\n",
              "      <th>purchase_payment_method</th>\n",
              "      <th>purchase_release_datetime</th>\n",
              "      <th>purchase_recurrency_number</th>\n",
              "      <th>purchase_recurrency_type</th>\n",
              "      <th>user_buyer_country</th>\n",
              "      <th>buyer_id</th>\n",
              "      <th>user_creator_country</th>\n",
              "      <th>creator_id</th>\n",
              "    </tr>\n",
              "  </thead>\n",
              "  <tbody>\n",
              "    <tr>\n",
              "      <th>0</th>\n",
              "      <td>Podcast</td>\n",
              "      <td>NaN</td>\n",
              "      <td>NaN</td>\n",
              "      <td>False</td>\n",
              "      <td>-0.160070</td>\n",
              "      <td>98-121-24-126-123-123-118</td>\n",
              "      <td>Music</td>\n",
              "      <td>97-125-24-117-120-124-115-21-115</td>\n",
              "      <td>1</td>\n",
              "      <td>NaN</td>\n",
              "      <td>QuickSettle</td>\n",
              "      <td>2023-07-15 04:38:38.000</td>\n",
              "      <td>2.0</td>\n",
              "      <td>Recurring</td>\n",
              "      <td>Solaris</td>\n",
              "      <td>101-118-29-126-120-124-116-21</td>\n",
              "      <td>Lunaria</td>\n",
              "      <td>103-124-25-125-119-126-118-24</td>\n",
              "    </tr>\n",
              "    <tr>\n",
              "      <th>1</th>\n",
              "      <td>Podcast</td>\n",
              "      <td>NaN</td>\n",
              "      <td>NaN</td>\n",
              "      <td>False</td>\n",
              "      <td>1.062798</td>\n",
              "      <td>97-125-21-123-127-118-127</td>\n",
              "      <td>History</td>\n",
              "      <td>98-118-29-120-127-122-126-24-117</td>\n",
              "      <td>1</td>\n",
              "      <td>NaN</td>\n",
              "      <td>EcoWallet</td>\n",
              "      <td>2023-01-19 08:04:01.000</td>\n",
              "      <td>2.0</td>\n",
              "      <td>Recurring</td>\n",
              "      <td>Solaris</td>\n",
              "      <td>101-126-29-117-126-121-117-21</td>\n",
              "      <td>Lunaria</td>\n",
              "      <td>102-121-25-127-119-119-114-21</td>\n",
              "    </tr>\n",
              "    <tr>\n",
              "      <th>2</th>\n",
              "      <td>Podcast</td>\n",
              "      <td>NaN</td>\n",
              "      <td>NaN</td>\n",
              "      <td>False</td>\n",
              "      <td>2.476160</td>\n",
              "      <td>98-118-31-120-127-127-115</td>\n",
              "      <td>Technology</td>\n",
              "      <td>98-118-30-126-118-119-116-20-121</td>\n",
              "      <td>1</td>\n",
              "      <td>NaN</td>\n",
              "      <td>QuickSettle</td>\n",
              "      <td>2023-02-01 08:24:28.000</td>\n",
              "      <td>1.0</td>\n",
              "      <td>NaN</td>\n",
              "      <td>Neptunia</td>\n",
              "      <td>101-124-28-116-120-122-113-27</td>\n",
              "      <td>Auroria</td>\n",
              "      <td>103-118-30-122-126-121-113-31</td>\n",
              "    </tr>\n",
              "  </tbody>\n",
              "</table>\n",
              "</div>\n",
              "    <div class=\"colab-df-buttons\">\n",
              "\n",
              "  <div class=\"colab-df-container\">\n",
              "    <button class=\"colab-df-convert\" onclick=\"convertToInteractive('df-112e52ef-db6d-4042-9ed3-d1faf9991515')\"\n",
              "            title=\"Convert this dataframe to an interactive table.\"\n",
              "            style=\"display:none;\">\n",
              "\n",
              "  <svg xmlns=\"http://www.w3.org/2000/svg\" height=\"24px\" viewBox=\"0 -960 960 960\">\n",
              "    <path d=\"M120-120v-720h720v720H120Zm60-500h600v-160H180v160Zm220 220h160v-160H400v160Zm0 220h160v-160H400v160ZM180-400h160v-160H180v160Zm440 0h160v-160H620v160ZM180-180h160v-160H180v160Zm440 0h160v-160H620v160Z\"/>\n",
              "  </svg>\n",
              "    </button>\n",
              "\n",
              "  <style>\n",
              "    .colab-df-container {\n",
              "      display:flex;\n",
              "      gap: 12px;\n",
              "    }\n",
              "\n",
              "    .colab-df-convert {\n",
              "      background-color: #E8F0FE;\n",
              "      border: none;\n",
              "      border-radius: 50%;\n",
              "      cursor: pointer;\n",
              "      display: none;\n",
              "      fill: #1967D2;\n",
              "      height: 32px;\n",
              "      padding: 0 0 0 0;\n",
              "      width: 32px;\n",
              "    }\n",
              "\n",
              "    .colab-df-convert:hover {\n",
              "      background-color: #E2EBFA;\n",
              "      box-shadow: 0px 1px 2px rgba(60, 64, 67, 0.3), 0px 1px 3px 1px rgba(60, 64, 67, 0.15);\n",
              "      fill: #174EA6;\n",
              "    }\n",
              "\n",
              "    .colab-df-buttons div {\n",
              "      margin-bottom: 4px;\n",
              "    }\n",
              "\n",
              "    [theme=dark] .colab-df-convert {\n",
              "      background-color: #3B4455;\n",
              "      fill: #D2E3FC;\n",
              "    }\n",
              "\n",
              "    [theme=dark] .colab-df-convert:hover {\n",
              "      background-color: #434B5C;\n",
              "      box-shadow: 0px 1px 3px 1px rgba(0, 0, 0, 0.15);\n",
              "      filter: drop-shadow(0px 1px 2px rgba(0, 0, 0, 0.3));\n",
              "      fill: #FFFFFF;\n",
              "    }\n",
              "  </style>\n",
              "\n",
              "    <script>\n",
              "      const buttonEl =\n",
              "        document.querySelector('#df-112e52ef-db6d-4042-9ed3-d1faf9991515 button.colab-df-convert');\n",
              "      buttonEl.style.display =\n",
              "        google.colab.kernel.accessAllowed ? 'block' : 'none';\n",
              "\n",
              "      async function convertToInteractive(key) {\n",
              "        const element = document.querySelector('#df-112e52ef-db6d-4042-9ed3-d1faf9991515');\n",
              "        const dataTable =\n",
              "          await google.colab.kernel.invokeFunction('convertToInteractive',\n",
              "                                                    [key], {});\n",
              "        if (!dataTable) return;\n",
              "\n",
              "        const docLinkHtml = 'Like what you see? Visit the ' +\n",
              "          '<a target=\"_blank\" href=https://colab.research.google.com/notebooks/data_table.ipynb>data table notebook</a>'\n",
              "          + ' to learn more about interactive tables.';\n",
              "        element.innerHTML = '';\n",
              "        dataTable['output_type'] = 'display_data';\n",
              "        await google.colab.output.renderOutput(dataTable, element);\n",
              "        const docLink = document.createElement('div');\n",
              "        docLink.innerHTML = docLinkHtml;\n",
              "        element.appendChild(docLink);\n",
              "      }\n",
              "    </script>\n",
              "  </div>\n",
              "\n",
              "\n",
              "<div id=\"df-ec7feac4-ad79-4c61-b845-57a1c9cb6638\">\n",
              "  <button class=\"colab-df-quickchart\" onclick=\"quickchart('df-ec7feac4-ad79-4c61-b845-57a1c9cb6638')\"\n",
              "            title=\"Suggest charts\"\n",
              "            style=\"display:none;\">\n",
              "\n",
              "<svg xmlns=\"http://www.w3.org/2000/svg\" height=\"24px\"viewBox=\"0 0 24 24\"\n",
              "     width=\"24px\">\n",
              "    <g>\n",
              "        <path d=\"M19 3H5c-1.1 0-2 .9-2 2v14c0 1.1.9 2 2 2h14c1.1 0 2-.9 2-2V5c0-1.1-.9-2-2-2zM9 17H7v-7h2v7zm4 0h-2V7h2v10zm4 0h-2v-4h2v4z\"/>\n",
              "    </g>\n",
              "</svg>\n",
              "  </button>\n",
              "\n",
              "<style>\n",
              "  .colab-df-quickchart {\n",
              "      --bg-color: #E8F0FE;\n",
              "      --fill-color: #1967D2;\n",
              "      --hover-bg-color: #E2EBFA;\n",
              "      --hover-fill-color: #174EA6;\n",
              "      --disabled-fill-color: #AAA;\n",
              "      --disabled-bg-color: #DDD;\n",
              "  }\n",
              "\n",
              "  [theme=dark] .colab-df-quickchart {\n",
              "      --bg-color: #3B4455;\n",
              "      --fill-color: #D2E3FC;\n",
              "      --hover-bg-color: #434B5C;\n",
              "      --hover-fill-color: #FFFFFF;\n",
              "      --disabled-bg-color: #3B4455;\n",
              "      --disabled-fill-color: #666;\n",
              "  }\n",
              "\n",
              "  .colab-df-quickchart {\n",
              "    background-color: var(--bg-color);\n",
              "    border: none;\n",
              "    border-radius: 50%;\n",
              "    cursor: pointer;\n",
              "    display: none;\n",
              "    fill: var(--fill-color);\n",
              "    height: 32px;\n",
              "    padding: 0;\n",
              "    width: 32px;\n",
              "  }\n",
              "\n",
              "  .colab-df-quickchart:hover {\n",
              "    background-color: var(--hover-bg-color);\n",
              "    box-shadow: 0 1px 2px rgba(60, 64, 67, 0.3), 0 1px 3px 1px rgba(60, 64, 67, 0.15);\n",
              "    fill: var(--button-hover-fill-color);\n",
              "  }\n",
              "\n",
              "  .colab-df-quickchart-complete:disabled,\n",
              "  .colab-df-quickchart-complete:disabled:hover {\n",
              "    background-color: var(--disabled-bg-color);\n",
              "    fill: var(--disabled-fill-color);\n",
              "    box-shadow: none;\n",
              "  }\n",
              "\n",
              "  .colab-df-spinner {\n",
              "    border: 2px solid var(--fill-color);\n",
              "    border-color: transparent;\n",
              "    border-bottom-color: var(--fill-color);\n",
              "    animation:\n",
              "      spin 1s steps(1) infinite;\n",
              "  }\n",
              "\n",
              "  @keyframes spin {\n",
              "    0% {\n",
              "      border-color: transparent;\n",
              "      border-bottom-color: var(--fill-color);\n",
              "      border-left-color: var(--fill-color);\n",
              "    }\n",
              "    20% {\n",
              "      border-color: transparent;\n",
              "      border-left-color: var(--fill-color);\n",
              "      border-top-color: var(--fill-color);\n",
              "    }\n",
              "    30% {\n",
              "      border-color: transparent;\n",
              "      border-left-color: var(--fill-color);\n",
              "      border-top-color: var(--fill-color);\n",
              "      border-right-color: var(--fill-color);\n",
              "    }\n",
              "    40% {\n",
              "      border-color: transparent;\n",
              "      border-right-color: var(--fill-color);\n",
              "      border-top-color: var(--fill-color);\n",
              "    }\n",
              "    60% {\n",
              "      border-color: transparent;\n",
              "      border-right-color: var(--fill-color);\n",
              "    }\n",
              "    80% {\n",
              "      border-color: transparent;\n",
              "      border-right-color: var(--fill-color);\n",
              "      border-bottom-color: var(--fill-color);\n",
              "    }\n",
              "    90% {\n",
              "      border-color: transparent;\n",
              "      border-bottom-color: var(--fill-color);\n",
              "    }\n",
              "  }\n",
              "</style>\n",
              "\n",
              "  <script>\n",
              "    async function quickchart(key) {\n",
              "      const quickchartButtonEl =\n",
              "        document.querySelector('#' + key + ' button');\n",
              "      quickchartButtonEl.disabled = true;  // To prevent multiple clicks.\n",
              "      quickchartButtonEl.classList.add('colab-df-spinner');\n",
              "      try {\n",
              "        const charts = await google.colab.kernel.invokeFunction(\n",
              "            'suggestCharts', [key], {});\n",
              "      } catch (error) {\n",
              "        console.error('Error during call to suggestCharts:', error);\n",
              "      }\n",
              "      quickchartButtonEl.classList.remove('colab-df-spinner');\n",
              "      quickchartButtonEl.classList.add('colab-df-quickchart-complete');\n",
              "    }\n",
              "    (() => {\n",
              "      let quickchartButtonEl =\n",
              "        document.querySelector('#df-ec7feac4-ad79-4c61-b845-57a1c9cb6638 button');\n",
              "      quickchartButtonEl.style.display =\n",
              "        google.colab.kernel.accessAllowed ? 'block' : 'none';\n",
              "    })();\n",
              "  </script>\n",
              "</div>\n",
              "\n",
              "    </div>\n",
              "  </div>\n"
            ],
            "application/vnd.google.colaboratory.intrinsic+json": {
              "type": "dataframe",
              "variable_name": "df"
            }
          },
          "metadata": {},
          "execution_count": 11
        }
      ]
    },
    {
      "cell_type": "markdown",
      "source": [
        "## Data exploration\n"
      ],
      "metadata": {
        "id": "Yd7zSsB8m8LN"
      }
    },
    {
      "cell_type": "markdown",
      "source": [
        "**Shows the number of rows and columns in the dataset**"
      ],
      "metadata": {
        "id": "rOIvYXkWveuB"
      }
    },
    {
      "cell_type": "code",
      "source": [
        "df.shape"
      ],
      "metadata": {
        "colab": {
          "base_uri": "https://localhost:8080/"
        },
        "id": "aXMrscpxYdr9",
        "outputId": "aaf32c2f-71ff-4145-b63c-07dfb3b3133c"
      },
      "execution_count": null,
      "outputs": [
        {
          "output_type": "execute_result",
          "data": {
            "text/plain": [
              "(1731344, 18)"
            ]
          },
          "metadata": {},
          "execution_count": 12
        }
      ]
    },
    {
      "cell_type": "markdown",
      "source": [
        "We have a total of 1.731.344 rows and 18 columns."
      ],
      "metadata": {
        "id": "j1g-HilXv6sz"
      }
    },
    {
      "cell_type": "markdown",
      "source": [
        "**Observing the data types**"
      ],
      "metadata": {
        "id": "zk3u4UdUvucU"
      }
    },
    {
      "cell_type": "code",
      "source": [
        "# Show data types\n",
        "df.dtypes"
      ],
      "metadata": {
        "colab": {
          "base_uri": "https://localhost:8080/"
        },
        "id": "OdRh_XC9Y-B0",
        "outputId": "bda723fc-6698-43ef-f6ad-81171303805b"
      },
      "execution_count": null,
      "outputs": [
        {
          "output_type": "execute_result",
          "data": {
            "text/plain": [
              "product_format                    object\n",
              "purchase_commission_affiliate    float64\n",
              "purchase_commission_cocreator    float64\n",
              "purchase_has_coupon                 bool\n",
              "purchase_gmv                     float64\n",
              "product_id                        object\n",
              "product_niche                     object\n",
              "purchase_id                       object\n",
              "purchase_installment_number        int64\n",
              "purchase_parent_id                object\n",
              "purchase_payment_method           object\n",
              "purchase_release_datetime         object\n",
              "purchase_recurrency_number       float64\n",
              "purchase_recurrency_type          object\n",
              "user_buyer_country                object\n",
              "buyer_id                          object\n",
              "user_creator_country              object\n",
              "creator_id                        object\n",
              "dtype: object"
            ]
          },
          "metadata": {},
          "execution_count": 13
        }
      ]
    },
    {
      "cell_type": "markdown",
      "source": [
        "Most of the columns are in the correct format, it is only necessary to change the type of the purchase_release_datetime column to datetime."
      ],
      "metadata": {
        "id": "ENukpVPNuy-C"
      }
    },
    {
      "cell_type": "code",
      "source": [
        "# Changing data type to datetime\n",
        "df['purchase_release_datetime'] = pd.to_datetime(df['purchase_release_datetime'])"
      ],
      "metadata": {
        "id": "jVuuM67GOCTD"
      },
      "execution_count": null,
      "outputs": []
    },
    {
      "cell_type": "markdown",
      "source": [
        "**Checking for duplicate data**"
      ],
      "metadata": {
        "id": "XmwBVBsI3mfD"
      }
    },
    {
      "cell_type": "code",
      "source": [
        "# Show duplicates\n",
        "df.duplicated().sum()"
      ],
      "metadata": {
        "colab": {
          "base_uri": "https://localhost:8080/"
        },
        "id": "HBR2tGEYnLmi",
        "outputId": "4794f004-614a-4898-cae9-eeb0ac2c2005"
      },
      "execution_count": null,
      "outputs": [
        {
          "output_type": "execute_result",
          "data": {
            "text/plain": [
              "0"
            ]
          },
          "metadata": {},
          "execution_count": 15
        }
      ]
    },
    {
      "cell_type": "markdown",
      "source": [
        "There are no duplicate data in the dataset."
      ],
      "metadata": {
        "id": "mn7owA_a7l2X"
      }
    },
    {
      "cell_type": "markdown",
      "source": [
        "**Checking if there is null data**"
      ],
      "metadata": {
        "id": "op2xmgaM3s8f"
      }
    },
    {
      "cell_type": "code",
      "source": [
        "# Shows columns with null data\n",
        "df.isnull().sum()"
      ],
      "metadata": {
        "colab": {
          "base_uri": "https://localhost:8080/"
        },
        "id": "fzRJULlKnOW_",
        "outputId": "8659a842-c7e1-4cc2-b8e0-f19e32d98ae1"
      },
      "execution_count": null,
      "outputs": [
        {
          "output_type": "execute_result",
          "data": {
            "text/plain": [
              "product_format                         0\n",
              "purchase_commission_affiliate    1540136\n",
              "purchase_commission_cocreator    1253172\n",
              "purchase_has_coupon                    0\n",
              "purchase_gmv                           0\n",
              "product_id                             0\n",
              "product_niche                          0\n",
              "purchase_id                            0\n",
              "purchase_installment_number            0\n",
              "purchase_parent_id               1619260\n",
              "purchase_payment_method                0\n",
              "purchase_release_datetime              0\n",
              "purchase_recurrency_number       1195506\n",
              "purchase_recurrency_type          203948\n",
              "user_buyer_country                     0\n",
              "buyer_id                               0\n",
              "user_creator_country                   0\n",
              "creator_id                             0\n",
              "dtype: int64"
            ]
          },
          "metadata": {},
          "execution_count": 16
        }
      ]
    },
    {
      "cell_type": "markdown",
      "source": [
        "It does not seem necessary to treat null data, as the columns that have this type of data may be products for which affiliate, co-creator and recurring sales rules do not apply."
      ],
      "metadata": {
        "id": "RocFh4KuDSVC"
      }
    },
    {
      "cell_type": "markdown",
      "source": [
        "## Exploratory Data Analysis"
      ],
      "metadata": {
        "id": "nCtYQt_WqcpQ"
      }
    },
    {
      "cell_type": "markdown",
      "source": [
        "**Observing the basic description of the numeric data columns**"
      ],
      "metadata": {
        "id": "XI5Wz2rX38b1"
      }
    },
    {
      "cell_type": "code",
      "source": [
        "df.describe()"
      ],
      "metadata": {
        "colab": {
          "base_uri": "https://localhost:8080/",
          "height": 300
        },
        "id": "CMKlyXKRZugJ",
        "outputId": "7dc52466-e008-49a0-8c02-74712cb3fc0d"
      },
      "execution_count": null,
      "outputs": [
        {
          "output_type": "execute_result",
          "data": {
            "text/plain": [
              "       purchase_commission_affiliate  purchase_commission_cocreator  \\\n",
              "count                   1.912080e+05                   4.781720e+05   \n",
              "mean                    3.251563e-15                   1.308700e-14   \n",
              "std                     1.000000e+00                   1.000000e+00   \n",
              "min                    -4.940203e-01                  -3.671539e-01   \n",
              "25%                    -3.837708e-01                  -3.346808e-01   \n",
              "50%                    -2.495140e-01                  -2.544673e-01   \n",
              "75%                     1.013261e-01                   2.542341e-03   \n",
              "max                     5.804361e+01                   1.225564e+02   \n",
              "\n",
              "       purchase_gmv  purchase_installment_number  purchase_recurrency_number  \n",
              "count  1.731344e+06                 1.731344e+06               535838.000000  \n",
              "mean  -1.326007e-14                 2.203805e+00                    5.697666  \n",
              "std    1.000000e+00                 3.109230e+00                    8.523935  \n",
              "min   -3.349761e-01                 1.000000e+00                    1.000000  \n",
              "25%   -2.884425e-01                 1.000000e+00                    1.000000  \n",
              "50%   -2.195856e-01                 1.000000e+00                    2.000000  \n",
              "75%   -6.951845e-02                 1.000000e+00                    6.000000  \n",
              "max    3.008698e+02                 1.200000e+01                  212.000000  "
            ],
            "text/html": [
              "\n",
              "  <div id=\"df-bb62e131-e8ee-4e45-9784-9788c0760b16\" class=\"colab-df-container\">\n",
              "    <div>\n",
              "<style scoped>\n",
              "    .dataframe tbody tr th:only-of-type {\n",
              "        vertical-align: middle;\n",
              "    }\n",
              "\n",
              "    .dataframe tbody tr th {\n",
              "        vertical-align: top;\n",
              "    }\n",
              "\n",
              "    .dataframe thead th {\n",
              "        text-align: right;\n",
              "    }\n",
              "</style>\n",
              "<table border=\"1\" class=\"dataframe\">\n",
              "  <thead>\n",
              "    <tr style=\"text-align: right;\">\n",
              "      <th></th>\n",
              "      <th>purchase_commission_affiliate</th>\n",
              "      <th>purchase_commission_cocreator</th>\n",
              "      <th>purchase_gmv</th>\n",
              "      <th>purchase_installment_number</th>\n",
              "      <th>purchase_recurrency_number</th>\n",
              "    </tr>\n",
              "  </thead>\n",
              "  <tbody>\n",
              "    <tr>\n",
              "      <th>count</th>\n",
              "      <td>1.912080e+05</td>\n",
              "      <td>4.781720e+05</td>\n",
              "      <td>1.731344e+06</td>\n",
              "      <td>1.731344e+06</td>\n",
              "      <td>535838.000000</td>\n",
              "    </tr>\n",
              "    <tr>\n",
              "      <th>mean</th>\n",
              "      <td>3.251563e-15</td>\n",
              "      <td>1.308700e-14</td>\n",
              "      <td>-1.326007e-14</td>\n",
              "      <td>2.203805e+00</td>\n",
              "      <td>5.697666</td>\n",
              "    </tr>\n",
              "    <tr>\n",
              "      <th>std</th>\n",
              "      <td>1.000000e+00</td>\n",
              "      <td>1.000000e+00</td>\n",
              "      <td>1.000000e+00</td>\n",
              "      <td>3.109230e+00</td>\n",
              "      <td>8.523935</td>\n",
              "    </tr>\n",
              "    <tr>\n",
              "      <th>min</th>\n",
              "      <td>-4.940203e-01</td>\n",
              "      <td>-3.671539e-01</td>\n",
              "      <td>-3.349761e-01</td>\n",
              "      <td>1.000000e+00</td>\n",
              "      <td>1.000000</td>\n",
              "    </tr>\n",
              "    <tr>\n",
              "      <th>25%</th>\n",
              "      <td>-3.837708e-01</td>\n",
              "      <td>-3.346808e-01</td>\n",
              "      <td>-2.884425e-01</td>\n",
              "      <td>1.000000e+00</td>\n",
              "      <td>1.000000</td>\n",
              "    </tr>\n",
              "    <tr>\n",
              "      <th>50%</th>\n",
              "      <td>-2.495140e-01</td>\n",
              "      <td>-2.544673e-01</td>\n",
              "      <td>-2.195856e-01</td>\n",
              "      <td>1.000000e+00</td>\n",
              "      <td>2.000000</td>\n",
              "    </tr>\n",
              "    <tr>\n",
              "      <th>75%</th>\n",
              "      <td>1.013261e-01</td>\n",
              "      <td>2.542341e-03</td>\n",
              "      <td>-6.951845e-02</td>\n",
              "      <td>1.000000e+00</td>\n",
              "      <td>6.000000</td>\n",
              "    </tr>\n",
              "    <tr>\n",
              "      <th>max</th>\n",
              "      <td>5.804361e+01</td>\n",
              "      <td>1.225564e+02</td>\n",
              "      <td>3.008698e+02</td>\n",
              "      <td>1.200000e+01</td>\n",
              "      <td>212.000000</td>\n",
              "    </tr>\n",
              "  </tbody>\n",
              "</table>\n",
              "</div>\n",
              "    <div class=\"colab-df-buttons\">\n",
              "\n",
              "  <div class=\"colab-df-container\">\n",
              "    <button class=\"colab-df-convert\" onclick=\"convertToInteractive('df-bb62e131-e8ee-4e45-9784-9788c0760b16')\"\n",
              "            title=\"Convert this dataframe to an interactive table.\"\n",
              "            style=\"display:none;\">\n",
              "\n",
              "  <svg xmlns=\"http://www.w3.org/2000/svg\" height=\"24px\" viewBox=\"0 -960 960 960\">\n",
              "    <path d=\"M120-120v-720h720v720H120Zm60-500h600v-160H180v160Zm220 220h160v-160H400v160Zm0 220h160v-160H400v160ZM180-400h160v-160H180v160Zm440 0h160v-160H620v160ZM180-180h160v-160H180v160Zm440 0h160v-160H620v160Z\"/>\n",
              "  </svg>\n",
              "    </button>\n",
              "\n",
              "  <style>\n",
              "    .colab-df-container {\n",
              "      display:flex;\n",
              "      gap: 12px;\n",
              "    }\n",
              "\n",
              "    .colab-df-convert {\n",
              "      background-color: #E8F0FE;\n",
              "      border: none;\n",
              "      border-radius: 50%;\n",
              "      cursor: pointer;\n",
              "      display: none;\n",
              "      fill: #1967D2;\n",
              "      height: 32px;\n",
              "      padding: 0 0 0 0;\n",
              "      width: 32px;\n",
              "    }\n",
              "\n",
              "    .colab-df-convert:hover {\n",
              "      background-color: #E2EBFA;\n",
              "      box-shadow: 0px 1px 2px rgba(60, 64, 67, 0.3), 0px 1px 3px 1px rgba(60, 64, 67, 0.15);\n",
              "      fill: #174EA6;\n",
              "    }\n",
              "\n",
              "    .colab-df-buttons div {\n",
              "      margin-bottom: 4px;\n",
              "    }\n",
              "\n",
              "    [theme=dark] .colab-df-convert {\n",
              "      background-color: #3B4455;\n",
              "      fill: #D2E3FC;\n",
              "    }\n",
              "\n",
              "    [theme=dark] .colab-df-convert:hover {\n",
              "      background-color: #434B5C;\n",
              "      box-shadow: 0px 1px 3px 1px rgba(0, 0, 0, 0.15);\n",
              "      filter: drop-shadow(0px 1px 2px rgba(0, 0, 0, 0.3));\n",
              "      fill: #FFFFFF;\n",
              "    }\n",
              "  </style>\n",
              "\n",
              "    <script>\n",
              "      const buttonEl =\n",
              "        document.querySelector('#df-bb62e131-e8ee-4e45-9784-9788c0760b16 button.colab-df-convert');\n",
              "      buttonEl.style.display =\n",
              "        google.colab.kernel.accessAllowed ? 'block' : 'none';\n",
              "\n",
              "      async function convertToInteractive(key) {\n",
              "        const element = document.querySelector('#df-bb62e131-e8ee-4e45-9784-9788c0760b16');\n",
              "        const dataTable =\n",
              "          await google.colab.kernel.invokeFunction('convertToInteractive',\n",
              "                                                    [key], {});\n",
              "        if (!dataTable) return;\n",
              "\n",
              "        const docLinkHtml = 'Like what you see? Visit the ' +\n",
              "          '<a target=\"_blank\" href=https://colab.research.google.com/notebooks/data_table.ipynb>data table notebook</a>'\n",
              "          + ' to learn more about interactive tables.';\n",
              "        element.innerHTML = '';\n",
              "        dataTable['output_type'] = 'display_data';\n",
              "        await google.colab.output.renderOutput(dataTable, element);\n",
              "        const docLink = document.createElement('div');\n",
              "        docLink.innerHTML = docLinkHtml;\n",
              "        element.appendChild(docLink);\n",
              "      }\n",
              "    </script>\n",
              "  </div>\n",
              "\n",
              "\n",
              "<div id=\"df-1e574079-fddd-456f-a0fe-db21c7fc9564\">\n",
              "  <button class=\"colab-df-quickchart\" onclick=\"quickchart('df-1e574079-fddd-456f-a0fe-db21c7fc9564')\"\n",
              "            title=\"Suggest charts\"\n",
              "            style=\"display:none;\">\n",
              "\n",
              "<svg xmlns=\"http://www.w3.org/2000/svg\" height=\"24px\"viewBox=\"0 0 24 24\"\n",
              "     width=\"24px\">\n",
              "    <g>\n",
              "        <path d=\"M19 3H5c-1.1 0-2 .9-2 2v14c0 1.1.9 2 2 2h14c1.1 0 2-.9 2-2V5c0-1.1-.9-2-2-2zM9 17H7v-7h2v7zm4 0h-2V7h2v10zm4 0h-2v-4h2v4z\"/>\n",
              "    </g>\n",
              "</svg>\n",
              "  </button>\n",
              "\n",
              "<style>\n",
              "  .colab-df-quickchart {\n",
              "      --bg-color: #E8F0FE;\n",
              "      --fill-color: #1967D2;\n",
              "      --hover-bg-color: #E2EBFA;\n",
              "      --hover-fill-color: #174EA6;\n",
              "      --disabled-fill-color: #AAA;\n",
              "      --disabled-bg-color: #DDD;\n",
              "  }\n",
              "\n",
              "  [theme=dark] .colab-df-quickchart {\n",
              "      --bg-color: #3B4455;\n",
              "      --fill-color: #D2E3FC;\n",
              "      --hover-bg-color: #434B5C;\n",
              "      --hover-fill-color: #FFFFFF;\n",
              "      --disabled-bg-color: #3B4455;\n",
              "      --disabled-fill-color: #666;\n",
              "  }\n",
              "\n",
              "  .colab-df-quickchart {\n",
              "    background-color: var(--bg-color);\n",
              "    border: none;\n",
              "    border-radius: 50%;\n",
              "    cursor: pointer;\n",
              "    display: none;\n",
              "    fill: var(--fill-color);\n",
              "    height: 32px;\n",
              "    padding: 0;\n",
              "    width: 32px;\n",
              "  }\n",
              "\n",
              "  .colab-df-quickchart:hover {\n",
              "    background-color: var(--hover-bg-color);\n",
              "    box-shadow: 0 1px 2px rgba(60, 64, 67, 0.3), 0 1px 3px 1px rgba(60, 64, 67, 0.15);\n",
              "    fill: var(--button-hover-fill-color);\n",
              "  }\n",
              "\n",
              "  .colab-df-quickchart-complete:disabled,\n",
              "  .colab-df-quickchart-complete:disabled:hover {\n",
              "    background-color: var(--disabled-bg-color);\n",
              "    fill: var(--disabled-fill-color);\n",
              "    box-shadow: none;\n",
              "  }\n",
              "\n",
              "  .colab-df-spinner {\n",
              "    border: 2px solid var(--fill-color);\n",
              "    border-color: transparent;\n",
              "    border-bottom-color: var(--fill-color);\n",
              "    animation:\n",
              "      spin 1s steps(1) infinite;\n",
              "  }\n",
              "\n",
              "  @keyframes spin {\n",
              "    0% {\n",
              "      border-color: transparent;\n",
              "      border-bottom-color: var(--fill-color);\n",
              "      border-left-color: var(--fill-color);\n",
              "    }\n",
              "    20% {\n",
              "      border-color: transparent;\n",
              "      border-left-color: var(--fill-color);\n",
              "      border-top-color: var(--fill-color);\n",
              "    }\n",
              "    30% {\n",
              "      border-color: transparent;\n",
              "      border-left-color: var(--fill-color);\n",
              "      border-top-color: var(--fill-color);\n",
              "      border-right-color: var(--fill-color);\n",
              "    }\n",
              "    40% {\n",
              "      border-color: transparent;\n",
              "      border-right-color: var(--fill-color);\n",
              "      border-top-color: var(--fill-color);\n",
              "    }\n",
              "    60% {\n",
              "      border-color: transparent;\n",
              "      border-right-color: var(--fill-color);\n",
              "    }\n",
              "    80% {\n",
              "      border-color: transparent;\n",
              "      border-right-color: var(--fill-color);\n",
              "      border-bottom-color: var(--fill-color);\n",
              "    }\n",
              "    90% {\n",
              "      border-color: transparent;\n",
              "      border-bottom-color: var(--fill-color);\n",
              "    }\n",
              "  }\n",
              "</style>\n",
              "\n",
              "  <script>\n",
              "    async function quickchart(key) {\n",
              "      const quickchartButtonEl =\n",
              "        document.querySelector('#' + key + ' button');\n",
              "      quickchartButtonEl.disabled = true;  // To prevent multiple clicks.\n",
              "      quickchartButtonEl.classList.add('colab-df-spinner');\n",
              "      try {\n",
              "        const charts = await google.colab.kernel.invokeFunction(\n",
              "            'suggestCharts', [key], {});\n",
              "      } catch (error) {\n",
              "        console.error('Error during call to suggestCharts:', error);\n",
              "      }\n",
              "      quickchartButtonEl.classList.remove('colab-df-spinner');\n",
              "      quickchartButtonEl.classList.add('colab-df-quickchart-complete');\n",
              "    }\n",
              "    (() => {\n",
              "      let quickchartButtonEl =\n",
              "        document.querySelector('#df-1e574079-fddd-456f-a0fe-db21c7fc9564 button');\n",
              "      quickchartButtonEl.style.display =\n",
              "        google.colab.kernel.accessAllowed ? 'block' : 'none';\n",
              "    })();\n",
              "  </script>\n",
              "</div>\n",
              "\n",
              "    </div>\n",
              "  </div>\n"
            ],
            "application/vnd.google.colaboratory.intrinsic+json": {
              "type": "dataframe",
              "summary": "{\n  \"name\": \"df\",\n  \"rows\": 8,\n  \"fields\": [\n    {\n      \"column\": \"purchase_commission_affiliate\",\n      \"properties\": {\n        \"dtype\": \"number\",\n        \"std\": 67599.30942926646,\n        \"min\": -0.494020256113839,\n        \"max\": 191208.0,\n        \"samples\": [\n          3.251563186634909e-15,\n          -0.2495139793637417,\n          191208.0\n        ],\n        \"num_unique_values\": 8,\n        \"semantic_type\": \"\",\n        \"description\": \"\"\n      }\n    },\n    {\n      \"column\": \"purchase_commission_cocreator\",\n      \"properties\": {\n        \"dtype\": \"number\",\n        \"std\": 169053.1449587884,\n        \"min\": -0.3671539256350447,\n        \"max\": 478172.0,\n        \"samples\": [\n          1.308699618331373e-14,\n          -0.25446730822804975,\n          478172.0\n        ],\n        \"num_unique_values\": 8,\n        \"semantic_type\": \"\",\n        \"description\": \"\"\n      }\n    },\n    {\n      \"column\": \"purchase_gmv\",\n      \"properties\": {\n        \"dtype\": \"number\",\n        \"std\": 612107.3499012229,\n        \"min\": -0.3349761119179526,\n        \"max\": 1731344.0,\n        \"samples\": [\n          -1.3260073953672152e-14,\n          -0.2195855888600564,\n          1731344.0\n        ],\n        \"num_unique_values\": 8,\n        \"semantic_type\": \"\",\n        \"description\": \"\"\n      }\n    },\n    {\n      \"column\": \"purchase_installment_number\",\n      \"properties\": {\n        \"dtype\": \"number\",\n        \"std\": 612121.4650239092,\n        \"min\": 1.0,\n        \"max\": 1731344.0,\n        \"samples\": [\n          2.203804674287721,\n          12.0,\n          3.109229882522215\n        ],\n        \"num_unique_values\": 5,\n        \"semantic_type\": \"\",\n        \"description\": \"\"\n      }\n    },\n    {\n      \"column\": \"purchase_recurrency_number\",\n      \"properties\": {\n        \"dtype\": \"number\",\n        \"std\": 189435.4247124543,\n        \"min\": 1.0,\n        \"max\": 535838.0,\n        \"samples\": [\n          535838.0,\n          5.697666085645288,\n          6.0\n        ],\n        \"num_unique_values\": 7,\n        \"semantic_type\": \"\",\n        \"description\": \"\"\n      }\n    }\n  ]\n}"
            }
          },
          "metadata": {},
          "execution_count": 17
        }
      ]
    },
    {
      "cell_type": "markdown",
      "source": [
        "The **purchase_commission_affiliate**, **purchase_commission_cocreator** and **purchase_gmv** columns have a mean very close to 0 and a standard deviation equal to 1, which can be expected for data that is standardized.\n",
        "\n",
        "**purchase_commission_affiliate:** Most affiliate commissions are within a reasonable range given that the maximum value is 58.04 and the minimum is -0.494.\n",
        "\n",
        "**purchase_commission_cocreator:** The maximum value is 122.56, indicating that there are cases of relatively high co-creator commissions.\n",
        "\n",
        "**purchase_gmv (Gross Merchandise Volume):** GMV has a relatively high standard deviation, indicating a large dispersion in values.\n",
        "\n",
        "**purchase_installment_number:** Most transactions have 1 or 2 installments, as indicated by percentiles and median.\n",
        "The maximum number of installments is 12, which is a common standard in many payment systems.\n",
        "\n",
        "**purchase_recurrency_number:** The median is 2, indicating that half of the transactions have a recurrence of 2 or less.\n",
        "The maximum recurrence value is 212, which may indicate frequent recurring transactions for some customers."
      ],
      "metadata": {
        "id": "BwNmE2K_63N3"
      }
    },
    {
      "cell_type": "markdown",
      "source": [
        "Analyzing unique product shape values"
      ],
      "metadata": {
        "id": "rEhUZ5crP3Nj"
      }
    },
    {
      "cell_type": "code",
      "source": [
        "df.product_format.unique()"
      ],
      "metadata": {
        "colab": {
          "base_uri": "https://localhost:8080/"
        },
        "id": "lb3JUbRPPEVK",
        "outputId": "2c19245f-22ef-46c5-a607-77f649956b44"
      },
      "execution_count": null,
      "outputs": [
        {
          "output_type": "execute_result",
          "data": {
            "text/plain": [
              "array(['Podcast', 'Ebook', 'Software', 'Video', 'Livestream', 'Webinar'],\n",
              "      dtype=object)"
            ]
          },
          "metadata": {},
          "execution_count": 18
        }
      ]
    },
    {
      "cell_type": "markdown",
      "source": [
        "Analyzing the unique values of niches"
      ],
      "metadata": {
        "id": "dl_suwBlQAxD"
      }
    },
    {
      "cell_type": "code",
      "source": [
        "df.product_niche.unique()"
      ],
      "metadata": {
        "colab": {
          "base_uri": "https://localhost:8080/"
        },
        "id": "KlX6xapkPQ_z",
        "outputId": "0a681e1d-d585-4c1c-b4c9-1021fa5fc9f9"
      },
      "execution_count": null,
      "outputs": [
        {
          "output_type": "execute_result",
          "data": {
            "text/plain": [
              "array(['Music', 'History', 'Technology', 'Entertainment', 'Fashion',\n",
              "       'Parenting', 'Sports', 'Beauty & Wellness', 'Environment',\n",
              "       'Food & Beverage', 'Gaming', 'Health', 'Travel', 'Automotive',\n",
              "       'Self-Help', 'Education', 'Lifestyle', 'News & Politics',\n",
              "       'Social Media', 'Photography', 'E-commerce', 'Virtual Events',\n",
              "       'Art & Design', 'Real Estate', 'Finance', 'Literature',\n",
              "       'DIY & Crafts', 'Science', 'Personal Finance',\n",
              "       'Professional Development'], dtype=object)"
            ]
          },
          "metadata": {},
          "execution_count": 19
        }
      ]
    },
    {
      "cell_type": "markdown",
      "source": [
        "Observing the unique values of payment methods"
      ],
      "metadata": {
        "id": "dSqAVsZjRkaG"
      }
    },
    {
      "cell_type": "code",
      "source": [
        "df.purchase_payment_method.unique()"
      ],
      "metadata": {
        "colab": {
          "base_uri": "https://localhost:8080/"
        },
        "id": "bcKxHZnxQ4DJ",
        "outputId": "4f825d70-b8ed-4821-8447-86425f12270e"
      },
      "execution_count": null,
      "outputs": [
        {
          "output_type": "execute_result",
          "data": {
            "text/plain": [
              "array(['QuickSettle', 'EcoWallet', 'FlexiPay', 'CyberTransfer',\n",
              "       'SwiftCash', 'NovaPay', 'PaySphere', 'MoneyWave',\n",
              "       'UltraTransaction', 'FlashFinance'], dtype=object)"
            ]
          },
          "metadata": {},
          "execution_count": 20
        }
      ]
    },
    {
      "cell_type": "markdown",
      "source": [
        "Observing unique purchase recurrency type values"
      ],
      "metadata": {
        "id": "mOnKHDe7Ruey"
      }
    },
    {
      "cell_type": "code",
      "source": [
        "df.purchase_recurrency_type.unique()"
      ],
      "metadata": {
        "colab": {
          "base_uri": "https://localhost:8080/"
        },
        "id": "x1PEt2o4RBTB",
        "outputId": "5915a68d-c176-4bed-a830-f34700514caa"
      },
      "execution_count": null,
      "outputs": [
        {
          "output_type": "execute_result",
          "data": {
            "text/plain": [
              "array(['Recurring', nan, 'Single'], dtype=object)"
            ]
          },
          "metadata": {},
          "execution_count": 21
        }
      ]
    },
    {
      "cell_type": "markdown",
      "source": [
        "Observing the unique values of the creators’ country"
      ],
      "metadata": {
        "id": "76kkTpuhSHyk"
      }
    },
    {
      "cell_type": "code",
      "source": [
        "df.user_creator_country.unique()"
      ],
      "metadata": {
        "colab": {
          "base_uri": "https://localhost:8080/"
        },
        "id": "PyQJyy3wRQv6",
        "outputId": "ea32202a-3389-4c4c-a341-0ed7cbc78d57"
      },
      "execution_count": null,
      "outputs": [
        {
          "output_type": "execute_result",
          "data": {
            "text/plain": [
              "array(['Lunaria', 'Auroria', 'Terranova', 'Etheria', 'Celestia',\n",
              "       'Atlantica', 'Mystica', 'Zephyria', 'Neptunia', 'Solaris'],\n",
              "      dtype=object)"
            ]
          },
          "metadata": {},
          "execution_count": 22
        }
      ]
    },
    {
      "cell_type": "markdown",
      "source": [
        "Observing buyers' unique country values"
      ],
      "metadata": {
        "id": "ebBFGWEaSUzO"
      }
    },
    {
      "cell_type": "code",
      "source": [
        "df.user_buyer_country.unique()"
      ],
      "metadata": {
        "colab": {
          "base_uri": "https://localhost:8080/"
        },
        "id": "zgvk5xRxRd54",
        "outputId": "b3fe8ea6-8f90-497c-93ec-a5cc1e111150"
      },
      "execution_count": null,
      "outputs": [
        {
          "output_type": "execute_result",
          "data": {
            "text/plain": [
              "array(['Solaris', 'Neptunia', 'Zephyria', 'Celestia', 'Auroria',\n",
              "       'Lunaria', 'Etheria', 'Terranova', 'Mystica', 'Atlantica'],\n",
              "      dtype=object)"
            ]
          },
          "metadata": {},
          "execution_count": 23
        }
      ]
    },
    {
      "cell_type": "markdown",
      "source": [
        "### **Number of Total Sales:**\n",
        "\n",
        "1. How many sales were made over the months?\n",
        "2. How are sales distributed between different market niches?\n",
        "3. How are sales by product format?"
      ],
      "metadata": {
        "id": "JHsw-Bm24OeC"
      }
    },
    {
      "cell_type": "markdown",
      "source": [
        "How many sales were made over the months?"
      ],
      "metadata": {
        "id": "nqcGy445NGNJ"
      }
    },
    {
      "cell_type": "code",
      "source": [
        "# Creating year and year-month auxiliary columns\n",
        "df['year'] = df['purchase_release_datetime'].dt.year\n",
        "df['year-month'] = df['purchase_release_datetime'].dt.to_period('M')"
      ],
      "metadata": {
        "id": "XyDD1bDtUMpl"
      },
      "execution_count": null,
      "outputs": []
    },
    {
      "cell_type": "code",
      "source": [
        "sales_per_year = df.groupby('year')['purchase_id'].nunique()\n",
        "print(sales_per_year)"
      ],
      "metadata": {
        "colab": {
          "base_uri": "https://localhost:8080/"
        },
        "id": "CsznjMOjUQUf",
        "outputId": "a021236e-d25c-4af3-94c4-65b2eaee7112"
      },
      "execution_count": null,
      "outputs": [
        {
          "output_type": "stream",
          "name": "stdout",
          "text": [
            "year\n",
            "2018          1\n",
            "2021          4\n",
            "2022     156249\n",
            "2023    1572246\n",
            "Name: purchase_id, dtype: int64\n"
          ]
        }
      ]
    },
    {
      "cell_type": "code",
      "source": [
        "sales_per_month = df.groupby('year-month')['purchase_id'].nunique()\n",
        "print(sales_per_month)"
      ],
      "metadata": {
        "colab": {
          "base_uri": "https://localhost:8080/"
        },
        "id": "JP4Qh-jUUveF",
        "outputId": "f9909355-ebf4-4cc1-d2db-b661485f2826"
      },
      "execution_count": null,
      "outputs": [
        {
          "output_type": "stream",
          "name": "stdout",
          "text": [
            "year-month\n",
            "2018-09         1\n",
            "2021-06         1\n",
            "2021-09         1\n",
            "2021-11         1\n",
            "2021-12         1\n",
            "2022-01         1\n",
            "2022-03         4\n",
            "2022-04         2\n",
            "2022-05         4\n",
            "2022-06         2\n",
            "2022-07        11\n",
            "2022-08        26\n",
            "2022-09        74\n",
            "2022-10       249\n",
            "2022-11     26727\n",
            "2022-12    129149\n",
            "2023-01    153192\n",
            "2023-02    136233\n",
            "2023-03    152234\n",
            "2023-04    137490\n",
            "2023-05    134213\n",
            "2023-06    132232\n",
            "2023-07    141481\n",
            "2023-08    150257\n",
            "2023-09    142042\n",
            "2023-10    149817\n",
            "2023-11    143068\n",
            "Freq: M, Name: purchase_id, dtype: int64\n"
          ]
        }
      ]
    },
    {
      "cell_type": "code",
      "source": [
        "plt.figure(figsize=(10, 6))\n",
        "sales_per_month.plot(kind='bar', color='skyblue')\n",
        "plt.title('Number of Sales')\n",
        "plt.xlabel('Month')\n",
        "plt.ylabel('Sales Quantity')\n",
        "plt.xticks(rotation=45, ha='right')\n",
        "plt.grid(axis='y', linestyle='--', alpha=0.7)\n",
        "plt.tight_layout()\n",
        "plt.show()"
      ],
      "metadata": {
        "colab": {
          "base_uri": "https://localhost:8080/",
          "height": 607
        },
        "id": "CKQkT4plQcRR",
        "outputId": "dae0eb6e-aa22-490c-f97a-719b26ae93fa"
      },
      "execution_count": null,
      "outputs": [
        {
          "output_type": "display_data",
          "data": {
            "text/plain": [
              "<Figure size 1000x600 with 1 Axes>"
            ],
            "image/png": "[encoded data removed]"
          },
          "metadata": {}
        }
      ]
    },
    {
      "cell_type": "markdown",
      "source": [
        "Hotmart has a high volume of sales per month and has been keeping these numbers stable, which may indicate good consolidation in the market."
      ],
      "metadata": {
        "id": "SftP0dAhWjzM"
      }
    },
    {
      "cell_type": "code",
      "source": [
        "crator_per_month = df.groupby('year-month')['creator_id'].nunique()\n",
        "print(crator_per_month)"
      ],
      "metadata": {
        "colab": {
          "base_uri": "https://localhost:8080/"
        },
        "id": "Tm4PL-kYRkWh",
        "outputId": "143ce75f-7c1e-4aa7-cccc-05be0e41a6e3"
      },
      "execution_count": null,
      "outputs": [
        {
          "output_type": "stream",
          "name": "stdout",
          "text": [
            "year-month\n",
            "2018-09        1\n",
            "2021-06        1\n",
            "2021-09        1\n",
            "2021-11        1\n",
            "2021-12        1\n",
            "2022-01        1\n",
            "2022-03        4\n",
            "2022-04        2\n",
            "2022-05        4\n",
            "2022-06        2\n",
            "2022-07       11\n",
            "2022-08       26\n",
            "2022-09       61\n",
            "2022-10      169\n",
            "2022-11     7083\n",
            "2022-12    15391\n",
            "2023-01    16737\n",
            "2023-02    16649\n",
            "2023-03    17811\n",
            "2023-04    17110\n",
            "2023-05    17493\n",
            "2023-06    17481\n",
            "2023-07    17813\n",
            "2023-08    18559\n",
            "2023-09    18010\n",
            "2023-10    18034\n",
            "2023-11    18117\n",
            "Freq: M, Name: creator_id, dtype: int64\n"
          ]
        }
      ]
    },
    {
      "cell_type": "code",
      "source": [
        "plt.figure(figsize=(10, 6))\n",
        "crator_per_month.plot(kind='bar', color='skyblue')\n",
        "plt.title('Number of Creators')\n",
        "plt.xlabel('Month')\n",
        "plt.ylabel('Crators Quantity')\n",
        "plt.xticks(rotation=45, ha='right')\n",
        "plt.grid(axis='y', linestyle='--', alpha=0.7)\n",
        "plt.tight_layout()\n",
        "plt.show()"
      ],
      "metadata": {
        "colab": {
          "base_uri": "https://localhost:8080/",
          "height": 607
        },
        "id": "JhvPM6awR21K",
        "outputId": "fc7ca463-1017-4515-ec15-2f1b07fe4a04"
      },
      "execution_count": null,
      "outputs": [
        {
          "output_type": "display_data",
          "data": {
            "text/plain": [
              "<Figure size 1000x600 with 1 Axes>"
            ],
            "image/png": "[encoded data removed]"
          },
          "metadata": {}
        }
      ]
    },
    {
      "cell_type": "markdown",
      "source": [
        "The number of creators selling on Hotmart appears to have experienced gradual growth over the months, especially from 2022 to 2023. This suggests a growing adoption of new creators on the platform over time."
      ],
      "metadata": {
        "id": "Ax2yXcJgpQZa"
      }
    },
    {
      "cell_type": "markdown",
      "source": [
        "**How are sales distributed between different market niches?**"
      ],
      "metadata": {
        "id": "5dktWjcOeVb8"
      }
    },
    {
      "cell_type": "code",
      "source": [
        "sales_by_niche = df.groupby('product_niche')['purchase_id'].nunique().sort_values(ascending=False)\n",
        "print(sales_by_niche)"
      ],
      "metadata": {
        "colab": {
          "base_uri": "https://localhost:8080/"
        },
        "id": "3I0MCr9KeYsA",
        "outputId": "bafb1966-52f4-40f2-965c-71abf57264f5"
      },
      "execution_count": null,
      "outputs": [
        {
          "output_type": "stream",
          "name": "stdout",
          "text": [
            "product_niche\n",
            "Food & Beverage             116950\n",
            "Fashion                     105665\n",
            "News & Politics             102582\n",
            "Lifestyle                    96524\n",
            "Gaming                       92696\n",
            "Travel                       92341\n",
            "Art & Design                 88887\n",
            "Self-Help                    78776\n",
            "Science                      76466\n",
            "Technology                   73143\n",
            "Music                        71746\n",
            "Education                    69059\n",
            "Environment                  66243\n",
            "Entertainment                64885\n",
            "Parenting                    60430\n",
            "Photography                  59297\n",
            "Sports                       58858\n",
            "Automotive                   55744\n",
            "Health                       48881\n",
            "Beauty & Wellness            47970\n",
            "Real Estate                  42782\n",
            "History                      37275\n",
            "Literature                   27843\n",
            "Finance                      26919\n",
            "Social Media                 21042\n",
            "E-commerce                   15960\n",
            "Personal Finance             11789\n",
            "DIY & Crafts                  8215\n",
            "Virtual Events                6233\n",
            "Professional Development      5769\n",
            "Name: purchase_id, dtype: int64\n"
          ]
        }
      ]
    },
    {
      "cell_type": "code",
      "source": [
        "plt.figure(figsize=(10, 6))\n",
        "sales_by_niche.plot(kind='bar', color='skyblue')\n",
        "plt.title('Number of Sales by Niche')\n",
        "plt.xlabel('Product Niche')\n",
        "plt.ylabel('Sales Quantity')\n",
        "plt.xticks(rotation=45, ha='right')\n",
        "plt.grid(axis='y', linestyle='--', alpha=0.7)\n",
        "plt.tight_layout()\n",
        "plt.show()"
      ],
      "metadata": {
        "colab": {
          "base_uri": "https://localhost:8080/",
          "height": 535
        },
        "id": "tamuNpF_eiqt",
        "outputId": "d69dd685-ff2b-45b4-e2aa-6b9be0748bd8"
      },
      "execution_count": null,
      "outputs": [
        {
          "output_type": "display_data",
          "data": {
            "text/plain": [
              "<Figure size 1000x600 with 1 Axes>"
            ],
            "image/png": "[encoded data removed]"
          },
          "metadata": {}
        }
      ]
    },
    {
      "cell_type": "markdown",
      "source": [
        "**Diversity of Niches:**\n",
        "The result shows a wide diversity of niches, from food and fashion to news, technology and education. This suggests that the platform caters to a variety of customer interests and needs.\n",
        "\n",
        "**Popular Niche:**\n",
        "The Food & Beverage niche leads in number of sales, which may indicate that products related to cooking and food are highly sought after by platform users.\n",
        "\n",
        "**Interest in Lifestyles and Entertainment:**\n",
        "Niches such as Lifestyle, Gaming, Travel, Art & Design, Entertainment and Sports also have a significant number of sales. This suggests considerable user interest in products related to lifestyle, entertainment and hobbies."
      ],
      "metadata": {
        "id": "-QRWMew_fZW0"
      }
    },
    {
      "cell_type": "markdown",
      "source": [
        "**How are sales by product format?**"
      ],
      "metadata": {
        "id": "bO7mr8sAhxpr"
      }
    },
    {
      "cell_type": "code",
      "source": [
        "sales_by_format = df.groupby('product_format')['purchase_id'].nunique().sort_values(ascending=False)\n",
        "print(sales_by_format)"
      ],
      "metadata": {
        "colab": {
          "base_uri": "https://localhost:8080/"
        },
        "id": "KmiCfhxhi9sC",
        "outputId": "003005ea-f55c-4b50-edc4-2e0817107681"
      },
      "execution_count": null,
      "outputs": [
        {
          "output_type": "stream",
          "name": "stdout",
          "text": [
            "product_format\n",
            "Ebook         863635\n",
            "Podcast       543003\n",
            "Video         184576\n",
            "Livestream    100987\n",
            "Software       22398\n",
            "Webinar        15471\n",
            "Name: purchase_id, dtype: int64\n"
          ]
        }
      ]
    },
    {
      "cell_type": "code",
      "source": [
        "plt.figure(figsize=(6, 4))\n",
        "sales_by_format.plot(kind='bar', color='skyblue')\n",
        "plt.title('Number of Sales by Product Format')\n",
        "plt.xlabel('Product Format')\n",
        "plt.ylabel('Sales Quantity')\n",
        "plt.xticks(rotation=45, ha='right')\n",
        "plt.grid(axis='y', linestyle='--', alpha=0.7)\n",
        "plt.tight_layout()\n",
        "plt.show()"
      ],
      "metadata": {
        "colab": {
          "base_uri": "https://localhost:8080/",
          "height": 407
        },
        "id": "Cf0O3pvthyYk",
        "outputId": "7cf73fd1-2a9b-403c-d0ae-87e11b710710"
      },
      "execution_count": null,
      "outputs": [
        {
          "output_type": "display_data",
          "data": {
            "text/plain": [
              "<Figure size 600x400 with 1 Axes>"
            ],
            "image/png": "[encoded data removed]"
          },
          "metadata": {}
        }
      ]
    },
    {
      "cell_type": "markdown",
      "source": [
        "- The Ebook format leads in number of sales, with 863,635 units sold. This suggests that consumers have a significant preference for digital content in the form of e-books.\n",
        "\n",
        "- The Software and Webinar formats have the lowest number of sales, with 22,398 and 15,471 units sold, respectively. This may indicate a more limited demand for these types of products on the platform, which may be related to the higher cost and specialization required by them.\n",
        "\n",
        "Based on these results, content creators and digital producers can adjust their product development and marketing strategies to better meet consumer preferences and demands. For example, they can focus more on producing content in the Ebook and Podcast formats, which are very popular and have low production complexity and high customer demand.\n",
        "\n"
      ],
      "metadata": {
        "id": "AORiM4XDnN28"
      }
    },
    {
      "cell_type": "markdown",
      "source": [
        "### **GMV (Gross Merchandise Value)**\n",
        "\n",
        "1. How is the revenue generated on the platform?\n",
        "2. What is the creators’ revenue?"
      ],
      "metadata": {
        "id": "NCFRK7_grvSb"
      }
    },
    {
      "cell_type": "markdown",
      "source": [
        "**How is the revenue generated on the platform?**"
      ],
      "metadata": {
        "id": "tnURVQlS1jX8"
      }
    },
    {
      "cell_type": "code",
      "source": [
        "plt.figure(figsize=(10, 4))\n",
        "sns.boxplot(x='purchase_gmv', data=df, color='skyblue')\n",
        "plt.show()"
      ],
      "metadata": {
        "colab": {
          "base_uri": "https://localhost:8080/",
          "height": 388
        },
        "id": "GmXXr4B-qLoG",
        "outputId": "b2015be8-a2b7-479d-84e4-11c6251f0e43"
      },
      "execution_count": null,
      "outputs": [
        {
          "output_type": "display_data",
          "data": {
            "text/plain": [
              "<Figure size 1000x400 with 1 Axes>"
            ],
            "image/png": "[encoded data removed]"
          },
          "metadata": {}
        }
      ]
    },
    {
      "cell_type": "markdown",
      "source": [
        "As previously mentioned, GMV data has large variations and quite positive outlies, which can mean that there are sales of products that perform well above the average of others, where the commission from these sales can be responsible for a considerable part of the revenue generated for Hotmart.\n",
        "\n",
        "These very high values may be contributing to a considerable impact on the average value of sales made on the platform."
      ],
      "metadata": {
        "id": "GVSLVD47wg7K"
      }
    },
    {
      "cell_type": "code",
      "source": [
        "plt.figure(figsize=(10, 4))\n",
        "sns.boxplot(x='purchase_gmv', data=df, color='skyblue', showfliers = False)\n",
        "plt.show()"
      ],
      "metadata": {
        "colab": {
          "base_uri": "https://localhost:8080/",
          "height": 388
        },
        "id": "ZRJtpAUQqgMt",
        "outputId": "6159bb76-2a24-47e9-ea73-d59af562bf1b"
      },
      "execution_count": null,
      "outputs": [
        {
          "output_type": "display_data",
          "data": {
            "text/plain": [
              "<Figure size 1000x400 with 1 Axes>"
            ],
            "image/png": "[encoded data removed]"
          },
          "metadata": {}
        }
      ]
    },
    {
      "cell_type": "markdown",
      "source": [
        "When evaluating the data without outliers we see that the vast majority of sales have negative GMV, which for standardized data implies that the majority is below the platform's average sales value."
      ],
      "metadata": {
        "id": "OcJ0hoZ-xgk4"
      }
    },
    {
      "cell_type": "markdown",
      "source": [
        "**What is the creators’ revenue?**"
      ],
      "metadata": {
        "id": "iSY3zhfe1pRH"
      }
    },
    {
      "cell_type": "code",
      "source": [
        "# calculating the sum of revenue per creator\n",
        "revenue_by_creator = df.groupby('creator_id')['purchase_gmv'].sum().reset_index(name='sales')\n",
        "print(revenue_by_creator)"
      ],
      "metadata": {
        "colab": {
          "base_uri": "https://localhost:8080/"
        },
        "id": "zz5GRVjoqe_o",
        "outputId": "58ecd902-8691-4be9-a344-2d2697d16620"
      },
      "execution_count": null,
      "outputs": [
        {
          "output_type": "stream",
          "name": "stdout",
          "text": [
            "                         creator_id      sales\n",
            "0        100-118-20-116-120-125-114  -0.049528\n",
            "1        100-118-20-117-127-123-117  -0.553762\n",
            "2        100-118-20-117-127-124-126 -10.160557\n",
            "3            100-118-20-121-123-126  -0.203052\n",
            "4        100-118-20-121-125-125-112  -0.321675\n",
            "...                             ...        ...\n",
            "64358  98-127-31-127-124-124-112-21  -0.643640\n",
            "64359  98-127-31-127-124-125-115-25   1.642472\n",
            "64360  98-127-31-127-125-120-126-26  15.700826\n",
            "64361  98-127-31-127-125-127-112-29  -0.466287\n",
            "64362  98-127-31-127-126-121-117-25  -0.109724\n",
            "\n",
            "[64363 rows x 2 columns]\n"
          ]
        }
      ]
    },
    {
      "cell_type": "code",
      "source": [
        "plt.figure(figsize=(10, 4))\n",
        "sns.boxplot(x='sales', data=revenue_by_creator, color='skyblue')\n",
        "plt.show()"
      ],
      "metadata": {
        "colab": {
          "base_uri": "https://localhost:8080/",
          "height": 388
        },
        "id": "zufES4TysNnH",
        "outputId": "2b0d283b-24b2-4068-c72f-5e3f4756551d"
      },
      "execution_count": null,
      "outputs": [
        {
          "output_type": "display_data",
          "data": {
            "text/plain": [
              "<Figure size 1000x400 with 1 Axes>"
            ],
            "image/png": "[encoded data removed]"
          },
          "metadata": {}
        }
      ]
    },
    {
      "cell_type": "markdown",
      "source": [
        "The **negative outliers** may be creators who sell many products, but these products have values below the platform's average, meaning lower-cost products sold in large quantities\n",
        "\n",
        "Meanwhile, positive outliers consist of creators who have revenue well above the platform's average and high sales volume, which may indicate robust businesses and highly valuable partners for Hotmart"
      ],
      "metadata": {
        "id": "lwdxcQInzMmF"
      }
    },
    {
      "cell_type": "markdown",
      "source": [
        "### **Analysis of the amount of sales and products by creators**\n",
        "\n",
        "1. What is the distribution of sales by breeders"
      ],
      "metadata": {
        "id": "zjamwcj5-Al1"
      }
    },
    {
      "cell_type": "markdown",
      "source": [
        "**What is the distribution of sales by breeders?**"
      ],
      "metadata": {
        "id": "tz8TzwuIYbSF"
      }
    },
    {
      "cell_type": "code",
      "source": [
        "# Sales for each creator\n",
        "sales_by_creator = df.groupby('creator_id')['purchase_id'].nunique().reset_index(name='sales')\n",
        "print(sales_by_creator)"
      ],
      "metadata": {
        "colab": {
          "base_uri": "https://localhost:8080/"
        },
        "id": "C4rqDLxxBHKw",
        "outputId": "e7074b18-6844-4d29-a900-a8a536308b68"
      },
      "execution_count": null,
      "outputs": [
        {
          "output_type": "stream",
          "name": "stdout",
          "text": [
            "                         creator_id  sales\n",
            "0        100-118-20-116-120-125-114      1\n",
            "1        100-118-20-117-127-123-117      2\n",
            "2        100-118-20-117-127-124-126     32\n",
            "3            100-118-20-121-123-126      1\n",
            "4        100-118-20-121-125-125-112      1\n",
            "...                             ...    ...\n",
            "64358  98-127-31-127-124-124-112-21      2\n",
            "64359  98-127-31-127-124-125-115-25     39\n",
            "64360  98-127-31-127-125-120-126-26     67\n",
            "64361  98-127-31-127-125-127-112-29      3\n",
            "64362  98-127-31-127-126-121-117-25      1\n",
            "\n",
            "[64363 rows x 2 columns]\n"
          ]
        }
      ]
    },
    {
      "cell_type": "markdown",
      "source": [
        "**Data distribution measures**"
      ],
      "metadata": {
        "id": "2ZX1gDAjQd2U"
      }
    },
    {
      "cell_type": "code",
      "source": [
        "sales_by_creator.describe()"
      ],
      "metadata": {
        "colab": {
          "base_uri": "https://localhost:8080/",
          "height": 300
        },
        "id": "Ys4Ez0bDGpbi",
        "outputId": "a2c2c671-babc-48fa-e7e6-be7c4b4847b6"
      },
      "execution_count": null,
      "outputs": [
        {
          "output_type": "execute_result",
          "data": {
            "text/plain": [
              "              sales\n",
              "count  64363.000000\n",
              "mean      26.855476\n",
              "std      219.941153\n",
              "min        1.000000\n",
              "25%        1.000000\n",
              "50%        2.000000\n",
              "75%        9.000000\n",
              "max    30185.000000"
            ],
            "text/html": [
              "\n",
              "  <div id=\"df-820a7be0-6d4d-4c23-8e4c-72f71e8be72a\" class=\"colab-df-container\">\n",
              "    <div>\n",
              "<style scoped>\n",
              "    .dataframe tbody tr th:only-of-type {\n",
              "        vertical-align: middle;\n",
              "    }\n",
              "\n",
              "    .dataframe tbody tr th {\n",
              "        vertical-align: top;\n",
              "    }\n",
              "\n",
              "    .dataframe thead th {\n",
              "        text-align: right;\n",
              "    }\n",
              "</style>\n",
              "<table border=\"1\" class=\"dataframe\">\n",
              "  <thead>\n",
              "    <tr style=\"text-align: right;\">\n",
              "      <th></th>\n",
              "      <th>sales</th>\n",
              "    </tr>\n",
              "  </thead>\n",
              "  <tbody>\n",
              "    <tr>\n",
              "      <th>count</th>\n",
              "      <td>64363.000000</td>\n",
              "    </tr>\n",
              "    <tr>\n",
              "      <th>mean</th>\n",
              "      <td>26.855476</td>\n",
              "    </tr>\n",
              "    <tr>\n",
              "      <th>std</th>\n",
              "      <td>219.941153</td>\n",
              "    </tr>\n",
              "    <tr>\n",
              "      <th>min</th>\n",
              "      <td>1.000000</td>\n",
              "    </tr>\n",
              "    <tr>\n",
              "      <th>25%</th>\n",
              "      <td>1.000000</td>\n",
              "    </tr>\n",
              "    <tr>\n",
              "      <th>50%</th>\n",
              "      <td>2.000000</td>\n",
              "    </tr>\n",
              "    <tr>\n",
              "      <th>75%</th>\n",
              "      <td>9.000000</td>\n",
              "    </tr>\n",
              "    <tr>\n",
              "      <th>max</th>\n",
              "      <td>30185.000000</td>\n",
              "    </tr>\n",
              "  </tbody>\n",
              "</table>\n",
              "</div>\n",
              "    <div class=\"colab-df-buttons\">\n",
              "\n",
              "  <div class=\"colab-df-container\">\n",
              "    <button class=\"colab-df-convert\" onclick=\"convertToInteractive('df-820a7be0-6d4d-4c23-8e4c-72f71e8be72a')\"\n",
              "            title=\"Convert this dataframe to an interactive table.\"\n",
              "            style=\"display:none;\">\n",
              "\n",
              "  <svg xmlns=\"http://www.w3.org/2000/svg\" height=\"24px\" viewBox=\"0 -960 960 960\">\n",
              "    <path d=\"M120-120v-720h720v720H120Zm60-500h600v-160H180v160Zm220 220h160v-160H400v160Zm0 220h160v-160H400v160ZM180-400h160v-160H180v160Zm440 0h160v-160H620v160ZM180-180h160v-160H180v160Zm440 0h160v-160H620v160Z\"/>\n",
              "  </svg>\n",
              "    </button>\n",
              "\n",
              "  <style>\n",
              "    .colab-df-container {\n",
              "      display:flex;\n",
              "      gap: 12px;\n",
              "    }\n",
              "\n",
              "    .colab-df-convert {\n",
              "      background-color: #E8F0FE;\n",
              "      border: none;\n",
              "      border-radius: 50%;\n",
              "      cursor: pointer;\n",
              "      display: none;\n",
              "      fill: #1967D2;\n",
              "      height: 32px;\n",
              "      padding: 0 0 0 0;\n",
              "      width: 32px;\n",
              "    }\n",
              "\n",
              "    .colab-df-convert:hover {\n",
              "      background-color: #E2EBFA;\n",
              "      box-shadow: 0px 1px 2px rgba(60, 64, 67, 0.3), 0px 1px 3px 1px rgba(60, 64, 67, 0.15);\n",
              "      fill: #174EA6;\n",
              "    }\n",
              "\n",
              "    .colab-df-buttons div {\n",
              "      margin-bottom: 4px;\n",
              "    }\n",
              "\n",
              "    [theme=dark] .colab-df-convert {\n",
              "      background-color: #3B4455;\n",
              "      fill: #D2E3FC;\n",
              "    }\n",
              "\n",
              "    [theme=dark] .colab-df-convert:hover {\n",
              "      background-color: #434B5C;\n",
              "      box-shadow: 0px 1px 3px 1px rgba(0, 0, 0, 0.15);\n",
              "      filter: drop-shadow(0px 1px 2px rgba(0, 0, 0, 0.3));\n",
              "      fill: #FFFFFF;\n",
              "    }\n",
              "  </style>\n",
              "\n",
              "    <script>\n",
              "      const buttonEl =\n",
              "        document.querySelector('#df-820a7be0-6d4d-4c23-8e4c-72f71e8be72a button.colab-df-convert');\n",
              "      buttonEl.style.display =\n",
              "        google.colab.kernel.accessAllowed ? 'block' : 'none';\n",
              "\n",
              "      async function convertToInteractive(key) {\n",
              "        const element = document.querySelector('#df-820a7be0-6d4d-4c23-8e4c-72f71e8be72a');\n",
              "        const dataTable =\n",
              "          await google.colab.kernel.invokeFunction('convertToInteractive',\n",
              "                                                    [key], {});\n",
              "        if (!dataTable) return;\n",
              "\n",
              "        const docLinkHtml = 'Like what you see? Visit the ' +\n",
              "          '<a target=\"_blank\" href=https://colab.research.google.com/notebooks/data_table.ipynb>data table notebook</a>'\n",
              "          + ' to learn more about interactive tables.';\n",
              "        element.innerHTML = '';\n",
              "        dataTable['output_type'] = 'display_data';\n",
              "        await google.colab.output.renderOutput(dataTable, element);\n",
              "        const docLink = document.createElement('div');\n",
              "        docLink.innerHTML = docLinkHtml;\n",
              "        element.appendChild(docLink);\n",
              "      }\n",
              "    </script>\n",
              "  </div>\n",
              "\n",
              "\n",
              "<div id=\"df-317cca13-9f8e-42d6-928a-6f3d9ed7ea76\">\n",
              "  <button class=\"colab-df-quickchart\" onclick=\"quickchart('df-317cca13-9f8e-42d6-928a-6f3d9ed7ea76')\"\n",
              "            title=\"Suggest charts\"\n",
              "            style=\"display:none;\">\n",
              "\n",
              "<svg xmlns=\"http://www.w3.org/2000/svg\" height=\"24px\"viewBox=\"0 0 24 24\"\n",
              "     width=\"24px\">\n",
              "    <g>\n",
              "        <path d=\"M19 3H5c-1.1 0-2 .9-2 2v14c0 1.1.9 2 2 2h14c1.1 0 2-.9 2-2V5c0-1.1-.9-2-2-2zM9 17H7v-7h2v7zm4 0h-2V7h2v10zm4 0h-2v-4h2v4z\"/>\n",
              "    </g>\n",
              "</svg>\n",
              "  </button>\n",
              "\n",
              "<style>\n",
              "  .colab-df-quickchart {\n",
              "      --bg-color: #E8F0FE;\n",
              "      --fill-color: #1967D2;\n",
              "      --hover-bg-color: #E2EBFA;\n",
              "      --hover-fill-color: #174EA6;\n",
              "      --disabled-fill-color: #AAA;\n",
              "      --disabled-bg-color: #DDD;\n",
              "  }\n",
              "\n",
              "  [theme=dark] .colab-df-quickchart {\n",
              "      --bg-color: #3B4455;\n",
              "      --fill-color: #D2E3FC;\n",
              "      --hover-bg-color: #434B5C;\n",
              "      --hover-fill-color: #FFFFFF;\n",
              "      --disabled-bg-color: #3B4455;\n",
              "      --disabled-fill-color: #666;\n",
              "  }\n",
              "\n",
              "  .colab-df-quickchart {\n",
              "    background-color: var(--bg-color);\n",
              "    border: none;\n",
              "    border-radius: 50%;\n",
              "    cursor: pointer;\n",
              "    display: none;\n",
              "    fill: var(--fill-color);\n",
              "    height: 32px;\n",
              "    padding: 0;\n",
              "    width: 32px;\n",
              "  }\n",
              "\n",
              "  .colab-df-quickchart:hover {\n",
              "    background-color: var(--hover-bg-color);\n",
              "    box-shadow: 0 1px 2px rgba(60, 64, 67, 0.3), 0 1px 3px 1px rgba(60, 64, 67, 0.15);\n",
              "    fill: var(--button-hover-fill-color);\n",
              "  }\n",
              "\n",
              "  .colab-df-quickchart-complete:disabled,\n",
              "  .colab-df-quickchart-complete:disabled:hover {\n",
              "    background-color: var(--disabled-bg-color);\n",
              "    fill: var(--disabled-fill-color);\n",
              "    box-shadow: none;\n",
              "  }\n",
              "\n",
              "  .colab-df-spinner {\n",
              "    border: 2px solid var(--fill-color);\n",
              "    border-color: transparent;\n",
              "    border-bottom-color: var(--fill-color);\n",
              "    animation:\n",
              "      spin 1s steps(1) infinite;\n",
              "  }\n",
              "\n",
              "  @keyframes spin {\n",
              "    0% {\n",
              "      border-color: transparent;\n",
              "      border-bottom-color: var(--fill-color);\n",
              "      border-left-color: var(--fill-color);\n",
              "    }\n",
              "    20% {\n",
              "      border-color: transparent;\n",
              "      border-left-color: var(--fill-color);\n",
              "      border-top-color: var(--fill-color);\n",
              "    }\n",
              "    30% {\n",
              "      border-color: transparent;\n",
              "      border-left-color: var(--fill-color);\n",
              "      border-top-color: var(--fill-color);\n",
              "      border-right-color: var(--fill-color);\n",
              "    }\n",
              "    40% {\n",
              "      border-color: transparent;\n",
              "      border-right-color: var(--fill-color);\n",
              "      border-top-color: var(--fill-color);\n",
              "    }\n",
              "    60% {\n",
              "      border-color: transparent;\n",
              "      border-right-color: var(--fill-color);\n",
              "    }\n",
              "    80% {\n",
              "      border-color: transparent;\n",
              "      border-right-color: var(--fill-color);\n",
              "      border-bottom-color: var(--fill-color);\n",
              "    }\n",
              "    90% {\n",
              "      border-color: transparent;\n",
              "      border-bottom-color: var(--fill-color);\n",
              "    }\n",
              "  }\n",
              "</style>\n",
              "\n",
              "  <script>\n",
              "    async function quickchart(key) {\n",
              "      const quickchartButtonEl =\n",
              "        document.querySelector('#' + key + ' button');\n",
              "      quickchartButtonEl.disabled = true;  // To prevent multiple clicks.\n",
              "      quickchartButtonEl.classList.add('colab-df-spinner');\n",
              "      try {\n",
              "        const charts = await google.colab.kernel.invokeFunction(\n",
              "            'suggestCharts', [key], {});\n",
              "      } catch (error) {\n",
              "        console.error('Error during call to suggestCharts:', error);\n",
              "      }\n",
              "      quickchartButtonEl.classList.remove('colab-df-spinner');\n",
              "      quickchartButtonEl.classList.add('colab-df-quickchart-complete');\n",
              "    }\n",
              "    (() => {\n",
              "      let quickchartButtonEl =\n",
              "        document.querySelector('#df-317cca13-9f8e-42d6-928a-6f3d9ed7ea76 button');\n",
              "      quickchartButtonEl.style.display =\n",
              "        google.colab.kernel.accessAllowed ? 'block' : 'none';\n",
              "    })();\n",
              "  </script>\n",
              "</div>\n",
              "\n",
              "    </div>\n",
              "  </div>\n"
            ],
            "application/vnd.google.colaboratory.intrinsic+json": {
              "type": "dataframe",
              "summary": "{\n  \"name\": \"sales_by_creator\",\n  \"rows\": 8,\n  \"fields\": [\n    {\n      \"column\": \"sales\",\n      \"properties\": {\n        \"dtype\": \"number\",\n        \"std\": 23695.130267126424,\n        \"min\": 1.0,\n        \"max\": 64363.0,\n        \"samples\": [\n          64363.0,\n          26.855475972220063,\n          9.0\n        ],\n        \"num_unique_values\": 7,\n        \"semantic_type\": \"\",\n        \"description\": \"\"\n      }\n    }\n  ]\n}"
            }
          },
          "metadata": {},
          "execution_count": 89
        }
      ]
    },
    {
      "cell_type": "markdown",
      "source": [
        "- The average is approximately **26.86** per creator.\n",
        "- The standard deviation is approximately **219.94**. This indicates a high dispersion of data around the mean. The higher the standard deviation, the greater the dispersion of values around the mean.\n",
        "- **25%** of creators made only one sale within the platform.\n",
        "- **50%** of creators have up to 2 units sold. This means that the median is 2, implying that half of the creators made 2 sales or less.\n",
        "- **75%** of creators made up to 9 sales.\n",
        "- The highest number of sales made by a creator is **30185**.\n",
        "\n",
        "This description suggests that the distribution of sales by creators is quite asymmetric, with considerable variation.\n",
        "\n",
        "Most sales are concentrated in smaller values, with the mean being pulled upwards by extremely high values, as evidenced by the high standard deviation and the maximum value of **30,185** units.\n",
        "\n",
        "This may indicate that there are some cases of exceptionally high sales, while the majority of sales are of smaller quantities."
      ],
      "metadata": {
        "id": "n3TlJ04HHIz6"
      }
    },
    {
      "cell_type": "markdown",
      "source": [
        "Visualizing this in a boxplot"
      ],
      "metadata": {
        "id": "JWWVVWK6YkeF"
      }
    },
    {
      "cell_type": "code",
      "source": [
        "plt.figure(figsize=(10, 4))\n",
        "sns.boxplot(x='sales', data=sales_by_creator, color='skyblue')\n",
        "plt.show()"
      ],
      "metadata": {
        "colab": {
          "base_uri": "https://localhost:8080/",
          "height": 388
        },
        "id": "tozdaIhhHi5F",
        "outputId": "ab873ef5-0718-401c-c1e4-7e61724747a0"
      },
      "execution_count": null,
      "outputs": [
        {
          "output_type": "display_data",
          "data": {
            "text/plain": [
              "<Figure size 1000x400 with 1 Axes>"
            ],
            "image/png": "[encoded data removed]"
          },
          "metadata": {}
        }
      ]
    },
    {
      "cell_type": "markdown",
      "source": [
        "The data show many positive outliers of creators per sales quantity, reaching up to **30,000** sales during this period. This indicates that Hotmart has highly successful creators within its platform."
      ],
      "metadata": {
        "id": "dSnQJhpuZXJw"
      }
    },
    {
      "cell_type": "code",
      "source": [
        "plt.figure(figsize=(10, 4))\n",
        "sns.boxplot(x='sales', data=sales_by_creator, color='skyblue', showfliers = False)\n",
        "plt.show()"
      ],
      "metadata": {
        "colab": {
          "base_uri": "https://localhost:8080/",
          "height": 388
        },
        "id": "pAvLN6KVVbdL",
        "outputId": "6099039e-718b-4531-80b9-e3da143cdd0a"
      },
      "execution_count": null,
      "outputs": [
        {
          "output_type": "display_data",
          "data": {
            "text/plain": [
              "<Figure size 1000x400 with 1 Axes>"
            ],
            "image/png": "[encoded data removed]"
          },
          "metadata": {}
        }
      ]
    },
    {
      "cell_type": "markdown",
      "source": [
        "**What is the distribution of the number of products by creators?**"
      ],
      "metadata": {
        "id": "5YFAoH3KcaAf"
      }
    },
    {
      "cell_type": "code",
      "source": [
        "products_by_creator = df.groupby('creator_id')['product_id'].nunique().reset_index(name='products')\n",
        "print(products_by_creator)"
      ],
      "metadata": {
        "colab": {
          "base_uri": "https://localhost:8080/"
        },
        "id": "7mwwjFYaMST7",
        "outputId": "b0715b73-28bd-454f-8ed3-32cc4cb02426"
      },
      "execution_count": null,
      "outputs": [
        {
          "output_type": "stream",
          "name": "stdout",
          "text": [
            "                         creator_id  products\n",
            "0        100-118-20-116-120-125-114         1\n",
            "1        100-118-20-117-127-123-117         1\n",
            "2        100-118-20-117-127-124-126         6\n",
            "3            100-118-20-121-123-126         1\n",
            "4        100-118-20-121-125-125-112         1\n",
            "...                             ...       ...\n",
            "64358  98-127-31-127-124-124-112-21         1\n",
            "64359  98-127-31-127-124-125-115-25         1\n",
            "64360  98-127-31-127-125-120-126-26         3\n",
            "64361  98-127-31-127-125-127-112-29         2\n",
            "64362  98-127-31-127-126-121-117-25         1\n",
            "\n",
            "[64363 rows x 2 columns]\n"
          ]
        }
      ]
    },
    {
      "cell_type": "markdown",
      "source": [
        "**Data distribution measures**"
      ],
      "metadata": {
        "id": "zrsk0lJVe14x"
      }
    },
    {
      "cell_type": "code",
      "source": [
        "products_by_creator.describe()"
      ],
      "metadata": {
        "colab": {
          "base_uri": "https://localhost:8080/",
          "height": 300
        },
        "id": "MN4zzKpsedTG",
        "outputId": "30d626ce-b835-4cdd-e608-376f2a0def24"
      },
      "execution_count": null,
      "outputs": [
        {
          "output_type": "execute_result",
          "data": {
            "text/plain": [
              "           products\n",
              "count  64363.000000\n",
              "mean       2.555552\n",
              "std        5.185587\n",
              "min        1.000000\n",
              "25%        1.000000\n",
              "50%        1.000000\n",
              "75%        2.000000\n",
              "max      473.000000"
            ],
            "text/html": [
              "\n",
              "  <div id=\"df-d781d37d-86b6-4d9f-88b5-bf9d8bfa2177\" class=\"colab-df-container\">\n",
              "    <div>\n",
              "<style scoped>\n",
              "    .dataframe tbody tr th:only-of-type {\n",
              "        vertical-align: middle;\n",
              "    }\n",
              "\n",
              "    .dataframe tbody tr th {\n",
              "        vertical-align: top;\n",
              "    }\n",
              "\n",
              "    .dataframe thead th {\n",
              "        text-align: right;\n",
              "    }\n",
              "</style>\n",
              "<table border=\"1\" class=\"dataframe\">\n",
              "  <thead>\n",
              "    <tr style=\"text-align: right;\">\n",
              "      <th></th>\n",
              "      <th>products</th>\n",
              "    </tr>\n",
              "  </thead>\n",
              "  <tbody>\n",
              "    <tr>\n",
              "      <th>count</th>\n",
              "      <td>64363.000000</td>\n",
              "    </tr>\n",
              "    <tr>\n",
              "      <th>mean</th>\n",
              "      <td>2.555552</td>\n",
              "    </tr>\n",
              "    <tr>\n",
              "      <th>std</th>\n",
              "      <td>5.185587</td>\n",
              "    </tr>\n",
              "    <tr>\n",
              "      <th>min</th>\n",
              "      <td>1.000000</td>\n",
              "    </tr>\n",
              "    <tr>\n",
              "      <th>25%</th>\n",
              "      <td>1.000000</td>\n",
              "    </tr>\n",
              "    <tr>\n",
              "      <th>50%</th>\n",
              "      <td>1.000000</td>\n",
              "    </tr>\n",
              "    <tr>\n",
              "      <th>75%</th>\n",
              "      <td>2.000000</td>\n",
              "    </tr>\n",
              "    <tr>\n",
              "      <th>max</th>\n",
              "      <td>473.000000</td>\n",
              "    </tr>\n",
              "  </tbody>\n",
              "</table>\n",
              "</div>\n",
              "    <div class=\"colab-df-buttons\">\n",
              "\n",
              "  <div class=\"colab-df-container\">\n",
              "    <button class=\"colab-df-convert\" onclick=\"convertToInteractive('df-d781d37d-86b6-4d9f-88b5-bf9d8bfa2177')\"\n",
              "            title=\"Convert this dataframe to an interactive table.\"\n",
              "            style=\"display:none;\">\n",
              "\n",
              "  <svg xmlns=\"http://www.w3.org/2000/svg\" height=\"24px\" viewBox=\"0 -960 960 960\">\n",
              "    <path d=\"M120-120v-720h720v720H120Zm60-500h600v-160H180v160Zm220 220h160v-160H400v160Zm0 220h160v-160H400v160ZM180-400h160v-160H180v160Zm440 0h160v-160H620v160ZM180-180h160v-160H180v160Zm440 0h160v-160H620v160Z\"/>\n",
              "  </svg>\n",
              "    </button>\n",
              "\n",
              "  <style>\n",
              "    .colab-df-container {\n",
              "      display:flex;\n",
              "      gap: 12px;\n",
              "    }\n",
              "\n",
              "    .colab-df-convert {\n",
              "      background-color: #E8F0FE;\n",
              "      border: none;\n",
              "      border-radius: 50%;\n",
              "      cursor: pointer;\n",
              "      display: none;\n",
              "      fill: #1967D2;\n",
              "      height: 32px;\n",
              "      padding: 0 0 0 0;\n",
              "      width: 32px;\n",
              "    }\n",
              "\n",
              "    .colab-df-convert:hover {\n",
              "      background-color: #E2EBFA;\n",
              "      box-shadow: 0px 1px 2px rgba(60, 64, 67, 0.3), 0px 1px 3px 1px rgba(60, 64, 67, 0.15);\n",
              "      fill: #174EA6;\n",
              "    }\n",
              "\n",
              "    .colab-df-buttons div {\n",
              "      margin-bottom: 4px;\n",
              "    }\n",
              "\n",
              "    [theme=dark] .colab-df-convert {\n",
              "      background-color: #3B4455;\n",
              "      fill: #D2E3FC;\n",
              "    }\n",
              "\n",
              "    [theme=dark] .colab-df-convert:hover {\n",
              "      background-color: #434B5C;\n",
              "      box-shadow: 0px 1px 3px 1px rgba(0, 0, 0, 0.15);\n",
              "      filter: drop-shadow(0px 1px 2px rgba(0, 0, 0, 0.3));\n",
              "      fill: #FFFFFF;\n",
              "    }\n",
              "  </style>\n",
              "\n",
              "    <script>\n",
              "      const buttonEl =\n",
              "        document.querySelector('#df-d781d37d-86b6-4d9f-88b5-bf9d8bfa2177 button.colab-df-convert');\n",
              "      buttonEl.style.display =\n",
              "        google.colab.kernel.accessAllowed ? 'block' : 'none';\n",
              "\n",
              "      async function convertToInteractive(key) {\n",
              "        const element = document.querySelector('#df-d781d37d-86b6-4d9f-88b5-bf9d8bfa2177');\n",
              "        const dataTable =\n",
              "          await google.colab.kernel.invokeFunction('convertToInteractive',\n",
              "                                                    [key], {});\n",
              "        if (!dataTable) return;\n",
              "\n",
              "        const docLinkHtml = 'Like what you see? Visit the ' +\n",
              "          '<a target=\"_blank\" href=https://colab.research.google.com/notebooks/data_table.ipynb>data table notebook</a>'\n",
              "          + ' to learn more about interactive tables.';\n",
              "        element.innerHTML = '';\n",
              "        dataTable['output_type'] = 'display_data';\n",
              "        await google.colab.output.renderOutput(dataTable, element);\n",
              "        const docLink = document.createElement('div');\n",
              "        docLink.innerHTML = docLinkHtml;\n",
              "        element.appendChild(docLink);\n",
              "      }\n",
              "    </script>\n",
              "  </div>\n",
              "\n",
              "\n",
              "<div id=\"df-3303cb4f-8a8d-4ec4-bb77-a36c3d6bbc08\">\n",
              "  <button class=\"colab-df-quickchart\" onclick=\"quickchart('df-3303cb4f-8a8d-4ec4-bb77-a36c3d6bbc08')\"\n",
              "            title=\"Suggest charts\"\n",
              "            style=\"display:none;\">\n",
              "\n",
              "<svg xmlns=\"http://www.w3.org/2000/svg\" height=\"24px\"viewBox=\"0 0 24 24\"\n",
              "     width=\"24px\">\n",
              "    <g>\n",
              "        <path d=\"M19 3H5c-1.1 0-2 .9-2 2v14c0 1.1.9 2 2 2h14c1.1 0 2-.9 2-2V5c0-1.1-.9-2-2-2zM9 17H7v-7h2v7zm4 0h-2V7h2v10zm4 0h-2v-4h2v4z\"/>\n",
              "    </g>\n",
              "</svg>\n",
              "  </button>\n",
              "\n",
              "<style>\n",
              "  .colab-df-quickchart {\n",
              "      --bg-color: #E8F0FE;\n",
              "      --fill-color: #1967D2;\n",
              "      --hover-bg-color: #E2EBFA;\n",
              "      --hover-fill-color: #174EA6;\n",
              "      --disabled-fill-color: #AAA;\n",
              "      --disabled-bg-color: #DDD;\n",
              "  }\n",
              "\n",
              "  [theme=dark] .colab-df-quickchart {\n",
              "      --bg-color: #3B4455;\n",
              "      --fill-color: #D2E3FC;\n",
              "      --hover-bg-color: #434B5C;\n",
              "      --hover-fill-color: #FFFFFF;\n",
              "      --disabled-bg-color: #3B4455;\n",
              "      --disabled-fill-color: #666;\n",
              "  }\n",
              "\n",
              "  .colab-df-quickchart {\n",
              "    background-color: var(--bg-color);\n",
              "    border: none;\n",
              "    border-radius: 50%;\n",
              "    cursor: pointer;\n",
              "    display: none;\n",
              "    fill: var(--fill-color);\n",
              "    height: 32px;\n",
              "    padding: 0;\n",
              "    width: 32px;\n",
              "  }\n",
              "\n",
              "  .colab-df-quickchart:hover {\n",
              "    background-color: var(--hover-bg-color);\n",
              "    box-shadow: 0 1px 2px rgba(60, 64, 67, 0.3), 0 1px 3px 1px rgba(60, 64, 67, 0.15);\n",
              "    fill: var(--button-hover-fill-color);\n",
              "  }\n",
              "\n",
              "  .colab-df-quickchart-complete:disabled,\n",
              "  .colab-df-quickchart-complete:disabled:hover {\n",
              "    background-color: var(--disabled-bg-color);\n",
              "    fill: var(--disabled-fill-color);\n",
              "    box-shadow: none;\n",
              "  }\n",
              "\n",
              "  .colab-df-spinner {\n",
              "    border: 2px solid var(--fill-color);\n",
              "    border-color: transparent;\n",
              "    border-bottom-color: var(--fill-color);\n",
              "    animation:\n",
              "      spin 1s steps(1) infinite;\n",
              "  }\n",
              "\n",
              "  @keyframes spin {\n",
              "    0% {\n",
              "      border-color: transparent;\n",
              "      border-bottom-color: var(--fill-color);\n",
              "      border-left-color: var(--fill-color);\n",
              "    }\n",
              "    20% {\n",
              "      border-color: transparent;\n",
              "      border-left-color: var(--fill-color);\n",
              "      border-top-color: var(--fill-color);\n",
              "    }\n",
              "    30% {\n",
              "      border-color: transparent;\n",
              "      border-left-color: var(--fill-color);\n",
              "      border-top-color: var(--fill-color);\n",
              "      border-right-color: var(--fill-color);\n",
              "    }\n",
              "    40% {\n",
              "      border-color: transparent;\n",
              "      border-right-color: var(--fill-color);\n",
              "      border-top-color: var(--fill-color);\n",
              "    }\n",
              "    60% {\n",
              "      border-color: transparent;\n",
              "      border-right-color: var(--fill-color);\n",
              "    }\n",
              "    80% {\n",
              "      border-color: transparent;\n",
              "      border-right-color: var(--fill-color);\n",
              "      border-bottom-color: var(--fill-color);\n",
              "    }\n",
              "    90% {\n",
              "      border-color: transparent;\n",
              "      border-bottom-color: var(--fill-color);\n",
              "    }\n",
              "  }\n",
              "</style>\n",
              "\n",
              "  <script>\n",
              "    async function quickchart(key) {\n",
              "      const quickchartButtonEl =\n",
              "        document.querySelector('#' + key + ' button');\n",
              "      quickchartButtonEl.disabled = true;  // To prevent multiple clicks.\n",
              "      quickchartButtonEl.classList.add('colab-df-spinner');\n",
              "      try {\n",
              "        const charts = await google.colab.kernel.invokeFunction(\n",
              "            'suggestCharts', [key], {});\n",
              "      } catch (error) {\n",
              "        console.error('Error during call to suggestCharts:', error);\n",
              "      }\n",
              "      quickchartButtonEl.classList.remove('colab-df-spinner');\n",
              "      quickchartButtonEl.classList.add('colab-df-quickchart-complete');\n",
              "    }\n",
              "    (() => {\n",
              "      let quickchartButtonEl =\n",
              "        document.querySelector('#df-3303cb4f-8a8d-4ec4-bb77-a36c3d6bbc08 button');\n",
              "      quickchartButtonEl.style.display =\n",
              "        google.colab.kernel.accessAllowed ? 'block' : 'none';\n",
              "    })();\n",
              "  </script>\n",
              "</div>\n",
              "\n",
              "    </div>\n",
              "  </div>\n"
            ],
            "application/vnd.google.colaboratory.intrinsic+json": {
              "type": "dataframe",
              "summary": "{\n  \"name\": \"products_by_creator\",\n  \"rows\": 8,\n  \"fields\": [\n    {\n      \"column\": \"products\",\n      \"properties\": {\n        \"dtype\": \"number\",\n        \"std\": 22731.820475804816,\n        \"min\": 1.0,\n        \"max\": 64363.0,\n        \"samples\": [\n          64363.0,\n          2.5555521029162716,\n          473.0\n        ],\n        \"num_unique_values\": 6,\n        \"semantic_type\": \"\",\n        \"description\": \"\"\n      }\n    }\n  ]\n}"
            }
          },
          "metadata": {},
          "execution_count": 62
        }
      ]
    },
    {
      "cell_type": "markdown",
      "source": [
        "- During this period, **64,363** different products were sold.\n",
        "\n",
        "- The average number of products per seller is **2.5**.\n",
        "\n",
        "- **75%** of sellers sold 1 or 2 different products."
      ],
      "metadata": {
        "id": "6On96-MEfdhx"
      }
    },
    {
      "cell_type": "code",
      "source": [
        "plt.figure(figsize=(10, 4))\n",
        "sns.boxplot(x='products', data=products_by_creator, color='skyblue')\n",
        "plt.show()"
      ],
      "metadata": {
        "colab": {
          "base_uri": "https://localhost:8080/",
          "height": 388
        },
        "id": "OKacLHovadaN",
        "outputId": "9f7f560e-24e6-44b9-b5b4-4b55dce94081"
      },
      "execution_count": null,
      "outputs": [
        {
          "output_type": "display_data",
          "data": {
            "text/plain": [
              "<Figure size 1000x400 with 1 Axes>"
            ],
            "image/png": "[encoded data removed]"
          },
          "metadata": {}
        }
      ]
    },
    {
      "cell_type": "markdown",
      "source": [
        "In the number of products by creators, we also have a lot of positive outliers that exceed 100 different products sold.\n",
        "\n",
        "Let's see how the producers that are not outliers are distributed."
      ],
      "metadata": {
        "id": "q0x4HnS7dKmN"
      }
    },
    {
      "cell_type": "code",
      "source": [
        "plt.figure(figsize=(10, 4))\n",
        "sns.boxplot(x='products', data=products_by_creator, color='skyblue', showfliers = False)\n",
        "plt.show()"
      ],
      "metadata": {
        "colab": {
          "base_uri": "https://localhost:8080/",
          "height": 388
        },
        "id": "hRuKYXzJanIV",
        "outputId": "52230314-063c-4f1d-eced-d23aae2a448c"
      },
      "execution_count": null,
      "outputs": [
        {
          "output_type": "display_data",
          "data": {
            "text/plain": [
              "<Figure size 1000x400 with 1 Axes>"
            ],
            "image/png": "[encoded data removed]"
          },
          "metadata": {}
        }
      ]
    },
    {
      "cell_type": "markdown",
      "source": [
        "**75%** of content producers sold only **1 or 2** different products during this period.\n",
        "\n",
        "This could mean that some producers prefer to focus their sales on specific and probably more specialized products."
      ],
      "metadata": {
        "id": "51EcPmgPeEEr"
      }
    },
    {
      "cell_type": "markdown",
      "source": [
        "# **Conclusions and Recommendations**\n",
        "\n",
        "\n",
        "The analyzed information reveals the presence of two distinct profiles of producers within the Hotmart platform. Firstly, we identified small producers, characterized by having a limited number of products in their portfolios and specialization in specific niches. Although these producers may have lower sales volume, they play an important role in diversification and offering specialized content on the platform.\n",
        "\n",
        "On the other hand, there is a second profile of producers distinguished by large sales volume and an extensive portfolio of products. These creators represent success cases within the platform and have a significant impact on the Hotmart ecosystem. However, as these producers expand their operations and seek to increase their sales, the need for more modern and robust product management tools arises.\n",
        "\n",
        "For this second profile, the implementation of a more advanced product management tool may be crucial to handle the increasing complexity and demand. A robust tool can offer features such as advanced data analysis, inventory management, and process automation, empowering creators to scale their operations efficiently and sustainably.\n",
        "\n",
        "Furthermore, the availability of a more advanced product management tool can be a competitive advantage for Hotmart in attracting major players in the digital product market. The ability to offer a platform that meets the needs of high-volume creators can not only strengthen relationships with existing producers but also attract new talents and high-quality content to the platform."
      ],
      "metadata": {
        "id": "PNa9RdeEVKN1"
      }
    }
  ]
}